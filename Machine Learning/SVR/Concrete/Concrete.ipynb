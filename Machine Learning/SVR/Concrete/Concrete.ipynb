{
 "cells": [
  {
   "cell_type": "code",
   "execution_count": 3,
   "metadata": {},
   "outputs": [],
   "source": [
    "#http://archive.ics.uci.edu/ml/datasets/concrete+slump+test\n",
    "import pandas as pd\n",
    "import numpy as np\n",
    "import matplotlib.pyplot as plt\n",
    "import seaborn as sns\n",
    "import os\n",
    "\n",
    "os.chdir('C:\\\\Users\\Matthew...')\n",
    "path = os.getcwd()\n",
    "\n",
    "df = pd.read_csv(\"cement_slump.csv\")"
   ]
  },
  {
   "cell_type": "code",
   "execution_count": 4,
   "metadata": {},
   "outputs": [
    {
     "data": {
      "text/html": [
       "<div>\n",
       "<style scoped>\n",
       "    .dataframe tbody tr th:only-of-type {\n",
       "        vertical-align: middle;\n",
       "    }\n",
       "\n",
       "    .dataframe tbody tr th {\n",
       "        vertical-align: top;\n",
       "    }\n",
       "\n",
       "    .dataframe thead th {\n",
       "        text-align: right;\n",
       "    }\n",
       "</style>\n",
       "<table border=\"1\" class=\"dataframe\">\n",
       "  <thead>\n",
       "    <tr style=\"text-align: right;\">\n",
       "      <th></th>\n",
       "      <th>Cement</th>\n",
       "      <th>Slag</th>\n",
       "      <th>Fly ash</th>\n",
       "      <th>Water</th>\n",
       "      <th>SP</th>\n",
       "      <th>Coarse Aggr.</th>\n",
       "      <th>Fine Aggr.</th>\n",
       "      <th>SLUMP(cm)</th>\n",
       "      <th>FLOW(cm)</th>\n",
       "      <th>Compressive Strength (28-day)(Mpa)</th>\n",
       "    </tr>\n",
       "  </thead>\n",
       "  <tbody>\n",
       "    <tr>\n",
       "      <th>0</th>\n",
       "      <td>273.0</td>\n",
       "      <td>82.0</td>\n",
       "      <td>105.0</td>\n",
       "      <td>210.0</td>\n",
       "      <td>9.0</td>\n",
       "      <td>904.0</td>\n",
       "      <td>680.0</td>\n",
       "      <td>23.0</td>\n",
       "      <td>62.0</td>\n",
       "      <td>34.99</td>\n",
       "    </tr>\n",
       "    <tr>\n",
       "      <th>1</th>\n",
       "      <td>163.0</td>\n",
       "      <td>149.0</td>\n",
       "      <td>191.0</td>\n",
       "      <td>180.0</td>\n",
       "      <td>12.0</td>\n",
       "      <td>843.0</td>\n",
       "      <td>746.0</td>\n",
       "      <td>0.0</td>\n",
       "      <td>20.0</td>\n",
       "      <td>41.14</td>\n",
       "    </tr>\n",
       "    <tr>\n",
       "      <th>2</th>\n",
       "      <td>162.0</td>\n",
       "      <td>148.0</td>\n",
       "      <td>191.0</td>\n",
       "      <td>179.0</td>\n",
       "      <td>16.0</td>\n",
       "      <td>840.0</td>\n",
       "      <td>743.0</td>\n",
       "      <td>1.0</td>\n",
       "      <td>20.0</td>\n",
       "      <td>41.81</td>\n",
       "    </tr>\n",
       "    <tr>\n",
       "      <th>3</th>\n",
       "      <td>162.0</td>\n",
       "      <td>148.0</td>\n",
       "      <td>190.0</td>\n",
       "      <td>179.0</td>\n",
       "      <td>19.0</td>\n",
       "      <td>838.0</td>\n",
       "      <td>741.0</td>\n",
       "      <td>3.0</td>\n",
       "      <td>21.5</td>\n",
       "      <td>42.08</td>\n",
       "    </tr>\n",
       "    <tr>\n",
       "      <th>4</th>\n",
       "      <td>154.0</td>\n",
       "      <td>112.0</td>\n",
       "      <td>144.0</td>\n",
       "      <td>220.0</td>\n",
       "      <td>10.0</td>\n",
       "      <td>923.0</td>\n",
       "      <td>658.0</td>\n",
       "      <td>20.0</td>\n",
       "      <td>64.0</td>\n",
       "      <td>26.82</td>\n",
       "    </tr>\n",
       "  </tbody>\n",
       "</table>\n",
       "</div>"
      ],
      "text/plain": [
       "   Cement   Slag  Fly ash  Water    SP  Coarse Aggr.  Fine Aggr.  SLUMP(cm)  \\\n",
       "0   273.0   82.0    105.0  210.0   9.0         904.0       680.0       23.0   \n",
       "1   163.0  149.0    191.0  180.0  12.0         843.0       746.0        0.0   \n",
       "2   162.0  148.0    191.0  179.0  16.0         840.0       743.0        1.0   \n",
       "3   162.0  148.0    190.0  179.0  19.0         838.0       741.0        3.0   \n",
       "4   154.0  112.0    144.0  220.0  10.0         923.0       658.0       20.0   \n",
       "\n",
       "   FLOW(cm)  Compressive Strength (28-day)(Mpa)  \n",
       "0      62.0                               34.99  \n",
       "1      20.0                               41.14  \n",
       "2      20.0                               41.81  \n",
       "3      21.5                               42.08  \n",
       "4      64.0                               26.82  "
      ]
     },
     "execution_count": 4,
     "metadata": {},
     "output_type": "execute_result"
    }
   ],
   "source": [
    "#Data exploration\n",
    "df.head()"
   ]
  },
  {
   "cell_type": "code",
   "execution_count": 52,
   "metadata": {},
   "outputs": [
    {
     "data": {
      "text/plain": [
       "Cement                                0.445656\n",
       "Slag                                 -0.331522\n",
       "Fly ash                               0.444380\n",
       "Water                                -0.254320\n",
       "SP                                   -0.037909\n",
       "Coarse Aggr.                         -0.160610\n",
       "Fine Aggr.                           -0.154532\n",
       "SLUMP(cm)                            -0.223499\n",
       "FLOW(cm)                             -0.124189\n",
       "Compressive Strength (28-day)(Mpa)    1.000000\n",
       "Name: Compressive Strength (28-day)(Mpa), dtype: float64"
      ]
     },
     "execution_count": 52,
     "metadata": {},
     "output_type": "execute_result"
    }
   ],
   "source": [
    "df.corr()['Compressive Strength (28-day)(Mpa)']\n",
    "#the more cement, the better the strength, the more water the less strength"
   ]
  },
  {
   "cell_type": "code",
   "execution_count": 10,
   "metadata": {},
   "outputs": [
    {
     "data": {
      "text/plain": [
       "<AxesSubplot:>"
      ]
     },
     "execution_count": 10,
     "metadata": {},
     "output_type": "execute_result"
    },
    {
     "data": {
      "image/png": "[encoded data removed]",
      "text/plain": [
       "<Figure size 432x288 with 2 Axes>"
      ]
     },
     "metadata": {
      "needs_background": "light"
     },
     "output_type": "display_data"
    }
   ],
   "source": [
    "sns.heatmap(df.corr(), cmap = \"viridis\", annot = True)"
   ]
  },
  {
   "cell_type": "code",
   "execution_count": 11,
   "metadata": {},
   "outputs": [],
   "source": [
    "X = df.drop(\"Compressive Strength (28-day)(Mpa)\", axis=1) #list of features\n",
    "y = df[\"Compressive Strength (28-day)(Mpa)\"] #label (what we are trying to predict)"
   ]
  },
  {
   "cell_type": "code",
   "execution_count": 12,
   "metadata": {},
   "outputs": [],
   "source": [
    "from sklearn.model_selection import train_test_split"
   ]
  },
  {
   "cell_type": "code",
   "execution_count": 13,
   "metadata": {},
   "outputs": [],
   "source": [
    "X_train, X_test, y_train, y_test = train_test_split(X, y, test_size = 0.3, random_state = 101)"
   ]
  },
  {
   "cell_type": "code",
   "execution_count": 14,
   "metadata": {},
   "outputs": [],
   "source": [
    "from sklearn.preprocessing import StandardScaler"
   ]
  },
  {
   "cell_type": "code",
   "execution_count": 15,
   "metadata": {},
   "outputs": [],
   "source": [
    "scaler = StandardScaler()"
   ]
  },
  {
   "cell_type": "code",
   "execution_count": 23,
   "metadata": {},
   "outputs": [],
   "source": [
    "scaled_X_train = scaler.fit_transform(X_train)\n",
    "scaled_X_test = scaler.transform(X_test)"
   ]
  },
  {
   "cell_type": "code",
   "execution_count": 24,
   "metadata": {},
   "outputs": [],
   "source": [
    "from sklearn.svm import SVR, LinearSVR"
   ]
  },
  {
   "cell_type": "code",
   "execution_count": 25,
   "metadata": {},
   "outputs": [],
   "source": [
    "#C for regularization, defualt is 1; but if there is noise in the data (variance) \n",
    "base_model = SVR()"
   ]
  },
  {
   "cell_type": "code",
   "execution_count": 26,
   "metadata": {},
   "outputs": [
    {
     "data": {
      "text/plain": [
       "SVR()"
      ]
     },
     "execution_count": 26,
     "metadata": {},
     "output_type": "execute_result"
    }
   ],
   "source": [
    "base_model.fit(scaled_X_train, y_train)"
   ]
  },
  {
   "cell_type": "code",
   "execution_count": 28,
   "metadata": {},
   "outputs": [
    {
     "data": {
      "text/html": [
       "<div>\n",
       "<style scoped>\n",
       "    .dataframe tbody tr th:only-of-type {\n",
       "        vertical-align: middle;\n",
       "    }\n",
       "\n",
       "    .dataframe tbody tr th {\n",
       "        vertical-align: top;\n",
       "    }\n",
       "\n",
       "    .dataframe thead th {\n",
       "        text-align: right;\n",
       "    }\n",
       "</style>\n",
       "<table border=\"1\" class=\"dataframe\">\n",
       "  <thead>\n",
       "    <tr style=\"text-align: right;\">\n",
       "      <th></th>\n",
       "      <th>Cement</th>\n",
       "      <th>Slag</th>\n",
       "      <th>Fly ash</th>\n",
       "      <th>Water</th>\n",
       "      <th>SP</th>\n",
       "      <th>Coarse Aggr.</th>\n",
       "      <th>Fine Aggr.</th>\n",
       "      <th>SLUMP(cm)</th>\n",
       "      <th>FLOW(cm)</th>\n",
       "    </tr>\n",
       "  </thead>\n",
       "  <tbody>\n",
       "    <tr>\n",
       "      <th>89</th>\n",
       "      <td>150.3</td>\n",
       "      <td>111.4</td>\n",
       "      <td>238.8</td>\n",
       "      <td>167.3</td>\n",
       "      <td>6.5</td>\n",
       "      <td>999.5</td>\n",
       "      <td>670.5</td>\n",
       "      <td>14.50</td>\n",
       "      <td>36.5</td>\n",
       "    </tr>\n",
       "    <tr>\n",
       "      <th>41</th>\n",
       "      <td>154.0</td>\n",
       "      <td>141.0</td>\n",
       "      <td>181.0</td>\n",
       "      <td>234.0</td>\n",
       "      <td>11.0</td>\n",
       "      <td>797.0</td>\n",
       "      <td>683.0</td>\n",
       "      <td>23.00</td>\n",
       "      <td>65.0</td>\n",
       "    </tr>\n",
       "    <tr>\n",
       "      <th>23</th>\n",
       "      <td>146.0</td>\n",
       "      <td>178.0</td>\n",
       "      <td>0.0</td>\n",
       "      <td>192.0</td>\n",
       "      <td>11.0</td>\n",
       "      <td>961.0</td>\n",
       "      <td>749.0</td>\n",
       "      <td>18.00</td>\n",
       "      <td>46.0</td>\n",
       "    </tr>\n",
       "    <tr>\n",
       "      <th>26</th>\n",
       "      <td>308.0</td>\n",
       "      <td>111.0</td>\n",
       "      <td>142.0</td>\n",
       "      <td>217.0</td>\n",
       "      <td>10.0</td>\n",
       "      <td>783.0</td>\n",
       "      <td>686.0</td>\n",
       "      <td>25.00</td>\n",
       "      <td>70.0</td>\n",
       "    </tr>\n",
       "    <tr>\n",
       "      <th>22</th>\n",
       "      <td>148.0</td>\n",
       "      <td>180.0</td>\n",
       "      <td>0.0</td>\n",
       "      <td>183.0</td>\n",
       "      <td>11.0</td>\n",
       "      <td>972.0</td>\n",
       "      <td>757.0</td>\n",
       "      <td>0.00</td>\n",
       "      <td>20.0</td>\n",
       "    </tr>\n",
       "    <tr>\n",
       "      <th>...</th>\n",
       "      <td>...</td>\n",
       "      <td>...</td>\n",
       "      <td>...</td>\n",
       "      <td>...</td>\n",
       "      <td>...</td>\n",
       "      <td>...</td>\n",
       "      <td>...</td>\n",
       "      <td>...</td>\n",
       "      <td>...</td>\n",
       "    </tr>\n",
       "    <tr>\n",
       "      <th>63</th>\n",
       "      <td>291.0</td>\n",
       "      <td>104.0</td>\n",
       "      <td>0.0</td>\n",
       "      <td>231.0</td>\n",
       "      <td>9.0</td>\n",
       "      <td>857.0</td>\n",
       "      <td>725.0</td>\n",
       "      <td>23.00</td>\n",
       "      <td>69.0</td>\n",
       "    </tr>\n",
       "    <tr>\n",
       "      <th>70</th>\n",
       "      <td>276.0</td>\n",
       "      <td>90.0</td>\n",
       "      <td>116.0</td>\n",
       "      <td>180.0</td>\n",
       "      <td>9.0</td>\n",
       "      <td>870.0</td>\n",
       "      <td>768.0</td>\n",
       "      <td>0.00</td>\n",
       "      <td>20.0</td>\n",
       "    </tr>\n",
       "    <tr>\n",
       "      <th>81</th>\n",
       "      <td>140.1</td>\n",
       "      <td>11.8</td>\n",
       "      <td>226.1</td>\n",
       "      <td>207.8</td>\n",
       "      <td>4.9</td>\n",
       "      <td>1020.9</td>\n",
       "      <td>683.8</td>\n",
       "      <td>21.00</td>\n",
       "      <td>64.0</td>\n",
       "    </tr>\n",
       "    <tr>\n",
       "      <th>11</th>\n",
       "      <td>148.0</td>\n",
       "      <td>109.0</td>\n",
       "      <td>139.0</td>\n",
       "      <td>193.0</td>\n",
       "      <td>7.0</td>\n",
       "      <td>768.0</td>\n",
       "      <td>902.0</td>\n",
       "      <td>23.75</td>\n",
       "      <td>58.0</td>\n",
       "    </tr>\n",
       "    <tr>\n",
       "      <th>95</th>\n",
       "      <td>184.3</td>\n",
       "      <td>153.4</td>\n",
       "      <td>239.2</td>\n",
       "      <td>179.0</td>\n",
       "      <td>7.5</td>\n",
       "      <td>920.2</td>\n",
       "      <td>640.9</td>\n",
       "      <td>0.00</td>\n",
       "      <td>20.0</td>\n",
       "    </tr>\n",
       "  </tbody>\n",
       "</table>\n",
       "<p>72 rows × 9 columns</p>\n",
       "</div>"
      ],
      "text/plain": [
       "    Cement   Slag  Fly ash  Water    SP  Coarse Aggr.  Fine Aggr.  SLUMP(cm)  \\\n",
       "89   150.3  111.4    238.8  167.3   6.5         999.5       670.5      14.50   \n",
       "41   154.0  141.0    181.0  234.0  11.0         797.0       683.0      23.00   \n",
       "23   146.0  178.0      0.0  192.0  11.0         961.0       749.0      18.00   \n",
       "26   308.0  111.0    142.0  217.0  10.0         783.0       686.0      25.00   \n",
       "22   148.0  180.0      0.0  183.0  11.0         972.0       757.0       0.00   \n",
       "..     ...    ...      ...    ...   ...           ...         ...        ...   \n",
       "63   291.0  104.0      0.0  231.0   9.0         857.0       725.0      23.00   \n",
       "70   276.0   90.0    116.0  180.0   9.0         870.0       768.0       0.00   \n",
       "81   140.1   11.8    226.1  207.8   4.9        1020.9       683.8      21.00   \n",
       "11   148.0  109.0    139.0  193.0   7.0         768.0       902.0      23.75   \n",
       "95   184.3  153.4    239.2  179.0   7.5         920.2       640.9       0.00   \n",
       "\n",
       "    FLOW(cm)  \n",
       "89      36.5  \n",
       "41      65.0  \n",
       "23      46.0  \n",
       "26      70.0  \n",
       "22      20.0  \n",
       "..       ...  \n",
       "63      69.0  \n",
       "70      20.0  \n",
       "81      64.0  \n",
       "11      58.0  \n",
       "95      20.0  \n",
       "\n",
       "[72 rows x 9 columns]"
      ]
     },
     "execution_count": 28,
     "metadata": {},
     "output_type": "execute_result"
    }
   ],
   "source": [
    "X_train"
   ]
  },
  {
   "cell_type": "code",
   "execution_count": 29,
   "metadata": {},
   "outputs": [
    {
     "data": {
      "text/plain": [
       "array([[-0.97616308,  0.48761757,  1.0288507 , -1.52996498, -0.8426741 ,\n",
       "         1.36869431, -1.00173811, -0.41697052, -0.75855243],\n",
       "       [-0.92521387,  0.99821087,  0.31639166,  1.94157002,  1.10751454,\n",
       "        -0.95666815, -0.82225804,  0.55516647,  0.87270893],\n",
       "       [-1.03537432,  1.63645251, -1.91466518, -0.24440404,  1.10751454,\n",
       "         0.92658836,  0.12539674, -0.01667882, -0.21479865],\n",
       "       [ 1.19537472,  0.48071766, -0.16433329,  1.05677099,  0.67413928,\n",
       "        -1.11743395, -0.77918282,  0.78390458,  1.15889513],\n",
       "       [-1.00783421,  1.67095206, -1.91466518, -0.71282706,  1.10751454,\n",
       "         1.05290435,  0.24026399, -2.07532186, -1.70296691],\n",
       "       [-0.66633682,  1.29663196,  1.03747909, -1.57680728, -0.45263638,\n",
       "         0.83012888, -1.38080002, -2.07532186, -1.70296691],\n",
       "       [ 1.01636399,  0.39446879, -0.23829098,  0.58834798, -1.05936173,\n",
       "        -0.10690607, -1.29608543,  0.95545817,  1.15889513],\n",
       "       [ 1.15406455,  0.29097014, -1.91466518, -0.03621604,  0.67413928,\n",
       "         0.90362182, -0.50637311,  0.21205929, -0.04308692],\n",
       "       [-0.84259354, -1.43400725,  1.16690504, -1.49353208,  1.54088979,\n",
       "         1.93711625, -0.75046601, -0.01667882, -0.10032416],\n",
       "       [ 1.37438544, -1.43400725,  0.10684489, -0.34849805, -1.49273698,\n",
       "        -0.11838934,  0.48435689,  0.66953553,  0.58652273],\n",
       "       [ 0.74096288,  0.27372037, -0.34922751, -0.66078006,  1.97426504,\n",
       "        -0.80738562,  0.71409138,  0.86968138,  0.84409031],\n",
       "       [-0.85636359, -1.43400725,  0.39034935, -1.07715607,  1.10751454,\n",
       "         1.25960323,  0.69973298, -0.70289317, -0.61545933],\n",
       "       [ 0.36917137,  0.30821992,  1.04240961, -1.43628038, -0.3226238 ,\n",
       "         0.79912405, -1.38080002, -1.84658374, -1.70296691],\n",
       "       [-1.09045454,  0.80846336,  0.14382373, -1.18125007,  1.10751454,\n",
       "         0.03089319,  0.64229935, -2.07532186, -1.70296691],\n",
       "       [ 0.51788797,  0.08397286,  1.03871172, -1.11358897, -0.36596133,\n",
       "         0.67280806, -1.35351905, -2.07532186, -1.70296691],\n",
       "       [ 0.72719282,  0.10122263, -0.49714288,  0.27606597,  0.24076403,\n",
       "        -1.39303247,  1.2453524 ,  0.95545817,  1.04442065],\n",
       "       [ 1.3881555 , -1.43400725, -0.07804933, -0.55668605, -0.19261122,\n",
       "         0.81175565, -0.44893949,  0.26924382,  0.67237859],\n",
       "       [ 1.04528111, -0.72849149,  1.04240961, -0.14031004, -0.40929885,\n",
       "         0.32830992, -1.2702403 ,  1.06982723,  0.98718341],\n",
       "       [ 1.01636399,  0.39446879, -0.23829098,  0.48425398,  1.10751454,\n",
       "        -1.49638191,  0.36948964,  0.78390458,  1.07303927],\n",
       "       [-1.07255347,  0.149522  ,  1.04117698,  0.21360957, -0.97268668,\n",
       "         0.97022479, -1.33772481,  0.78390458,  0.30033652],\n",
       "       [-0.84259354,  1.08445974,  0.40267563,  0.32811297,  1.10751454,\n",
       "        -0.58920347, -0.43458108, -0.58852411, -0.67269657],\n",
       "       [-1.03537432,  0.39446879, -0.2259647 ,  0.64039498, -1.05936173,\n",
       "        -0.06097298,  0.35513124,  0.66953553,  0.98718341],\n",
       "       [-1.11799465, -1.40985756,  0.52717107, -1.13440777, -1.75276214,\n",
       "         1.94745119,  0.57768653, -0.21682467, -1.07335726],\n",
       "       [-0.85636359,  0.56696653, -0.07804933, -1.12920307,  2.84101555,\n",
       "         0.83472219, -0.29099702,  0.612351  ,  0.2717179 ],\n",
       "       [ 1.36061539,  0.75671404,  0.10684489,  0.74448898, -1.05936173,\n",
       "        -1.82939678, -0.24792181, -1.84658374, -1.70296691],\n",
       "       [-0.7599732 , -1.43400725,  1.29016785, -0.71282706,  1.97426504,\n",
       "        -0.24470532,  1.2453524 ,  0.32642835,  0.24309928],\n",
       "       [-0.85636359,  1.89519912, -1.91466518,  0.58834798,  1.54088979,\n",
       "        -0.68106964,  1.11612674,  0.55516647,  0.01415032],\n",
       "       [ 1.22291483, -1.43400725, -0.15200701, -1.49353208,  0.67413928,\n",
       "         0.3868746 ,  0.91510906,  0.26924382, -0.08887672],\n",
       "       [-0.85636359, -1.43400725,  1.14225248, -1.12920307,  1.54088979,\n",
       "         1.84525008, -0.82225804,  0.32642835,  0.07138756],\n",
       "       [ 1.75581599, -1.43228227,  0.83532809,  0.61437148,  0.50078918,\n",
       "        -1.08068748,  0.25605824,  1.24138081,  1.61679306],\n",
       "       [ 0.80981316,  0.15297195, -0.46016403,  0.53630098,  0.24076403,\n",
       "         0.03089319, -0.87969166,  0.84108911,  0.81547169],\n",
       "       [-0.87013365, -1.43400725,  1.11759992, -1.18125007, -0.62598648,\n",
       "         1.77635045, -0.49201471,  0.09769024, -0.38651037],\n",
       "       [-0.89767376, -1.43400725,  1.08062108, -0.86896806,  1.10751454,\n",
       "         1.62706792, -0.60688195,  0.32642835,  0.414811  ],\n",
       "       [ 1.18160466,  0.46346788, -1.91466518, -0.40054505,  0.67413928,\n",
       "         0.27204189,  0.35513124,  0.44079741, -0.55822209],\n",
       "       [ 1.8563374 ,  1.01546065, -1.91466518, -0.19235704,  1.10751454,\n",
       "        -0.91073507,  0.54179051, -1.1603694 , -1.1305945 ],\n",
       "       [-0.07697844,  0.51349223,  1.03131595,  0.10431087, -0.45263638,\n",
       "         0.04237646, -1.309008  ,  1.06982723,  0.81547169],\n",
       "       [-1.04914438, -1.43400725,  0.88340058,  2.25385203, -1.05936173,\n",
       "        -1.49638191,  1.61867095, -0.41697052,  0.50066687],\n",
       "       [-0.76961224,  1.03616038,  1.02268756,  0.19279077, -0.58264895,\n",
       "         0.03318984, -1.25875358, -0.13104788, -1.30230622],\n",
       "       [ 1.05767416,  0.41171856, -0.2259647 ,  0.22401897, -1.05936173,\n",
       "        -0.02652317, -1.2242934 , -0.24541694, -1.35954346],\n",
       "       [ 0.42425159, -0.12302443, -0.71901593, -0.14031004, -0.19261122,\n",
       "        -0.52030384,  1.15920196,  0.55516647,  0.24309928],\n",
       "       [ 1.07144422,  0.41171856, -1.91466518,  0.69244198,  0.67413928,\n",
       "         0.00792665,  0.06796312,  0.78390458,  0.75823445],\n",
       "       [-0.83983953, -1.42883231,  1.04364223,  1.91554652,  0.32743908,\n",
       "        -1.1404005 ,  1.44780592,  0.66953553,  1.44508134],\n",
       "       [ 1.00259394,  0.39446879, -0.23829098,  0.53630098, -1.05936173,\n",
       "        -1.53083172,  0.54179051,  0.66953553, -0.1575614 ],\n",
       "       [ 0.71342277, -0.01952579, -0.62040568,  0.69244198,  0.24076403,\n",
       "         0.27204189, -0.86533326,  0.55516647,  0.70099721],\n",
       "       [-1.04914438,  0.39446879, -0.23829098,  0.58834798,  0.67413928,\n",
       "        -1.48489864,  2.04942312,  0.72672005,  0.64375997],\n",
       "       [ 1.03013405,  0.23922082, -1.91466518,  1.160865  ,  0.24076403,\n",
       "         0.59357349, -0.79354123, -0.35978599, -0.07170554],\n",
       "       [ 1.3881555 ,  0.56696653, -1.91466518, -0.03621604,  0.67413928,\n",
       "        -0.71551945,  1.04433472,  0.84108911,  0.98718341],\n",
       "       [ 1.05767416,  0.41171856, -1.91466518, -0.55668605, -1.05936173,\n",
       "        -0.0150399 ,  1.07305153, -1.73221469, -1.70296691],\n",
       "       [-1.15930482,  1.446705  ,  0.72315893,  1.52519401, -1.05936173,\n",
       "        -1.97867931,  0.24026399,  1.06982723,  1.15889513],\n",
       "       [-1.11799465,  0.77396381,  0.10684489,  2.09771102, -1.05936173,\n",
       "        -0.12987261, -1.209935  ,  0.66953553,  0.87270893],\n",
       "       [ 1.27799505, -1.43400725,  0.06986604,  0.53630098, -1.05936173,\n",
       "        -0.3365715 ,  0.24026399,  0.38361288,  0.81547169],\n",
       "       [-0.95275398, -1.43400725,  1.00666339,  0.38015997, -1.05936173,\n",
       "        -1.09446741,  2.17864877, -0.30260147,  0.07138756],\n",
       "       [-1.11524064, -0.90788914,  1.03131595, -1.42066628, -1.36272441,\n",
       "         1.70056086,  0.03493879,  0.35502062, -0.21479865],\n",
       "       [ 1.44323572, -1.43400725,  0.14382373, -1.18125007, -1.05936173,\n",
       "         0.04237646,  0.74280819,  0.38361288, -0.44374761],\n",
       "       [-0.9059358 ,  0.67219015,  1.04364223, -0.87417276, -0.75599905,\n",
       "         0.99319134, -1.26018942, -0.41697052, -0.47236623],\n",
       "       [-1.09045454,  0.80846336,  0.14382373,  0.95267699, -1.05936173,\n",
       "        -1.66863098,  1.37457805,  0.84108911,  0.98718341],\n",
       "       [-1.02160426,  0.10122263, -0.49714288,  0.27606597,  0.24076403,\n",
       "        -0.23322205,  1.27406921,  0.55516647,  0.30033652],\n",
       "       [ 0.60326232,  0.04947331, -0.546448  , -0.08826304, -1.05936173,\n",
       "        -0.54327038,  0.71409138,  1.0126427 ,  0.58652273],\n",
       "       [ 0.78227304, -1.43400725, -0.47249031,  0.43220698,  0.24076403,\n",
       "        -0.06097298,  0.84331703,  0.09769024, -0.10032416],\n",
       "       [-0.67735287,  1.3621811 ,  1.02515281, -1.59762608, -0.45263638,\n",
       "         0.83816717, -1.41956772, -2.07532186, -1.70296691],\n",
       "       [ 0.37330239,  0.30821992,  1.03254858, -1.44668978, -0.3226238 ,\n",
       "         0.84850212, -1.43105444, -2.07532186, -1.70296691],\n",
       "       [-0.92521387,  0.49796743, -0.13968073,  1.212912  ,  0.67413928,\n",
       "         0.49022405, -1.18121818,  0.21205929,  0.81547169],\n",
       "       [-1.04914438,  1.61920274,  0.88340058,  0.64039498,  1.10751454,\n",
       "        -1.47341537, -0.36278905, -1.78939922, -1.70296691],\n",
       "       [ 0.5481821 , -0.08852488, -0.68203709,  0.22401897,  0.24076403,\n",
       "        -0.18728897,  0.29769761,  0.55516647,  0.78685307],\n",
       "       [ 1.14029449, -1.43400725, -0.18898585,  0.90062999, -1.05936173,\n",
       "         0.16869245, -0.26228021,  0.09769024,  0.07138756],\n",
       "       [-0.99406415,  0.44621811, -0.20131213, -0.19235704, -1.05936173,\n",
       "         0.13424263,  0.57050732,  0.612351  ,  0.50066687],\n",
       "       [-0.37028063, -1.42883231,  1.04364223,  1.95197942,  0.1974265 ,\n",
       "        -1.1449938 ,  1.01992543,  0.95545817,  1.61679306],\n",
       "       [ 0.96128377,  0.35996924, -1.91466518,  1.78542901,  0.24076403,\n",
       "        -0.26767187, -0.219205  ,  0.55516647,  1.10165789],\n",
       "       [ 0.75473293,  0.11847241, -0.48481659, -0.86896806,  0.24076403,\n",
       "        -0.11838934,  0.39820645, -2.07532186, -1.70296691],\n",
       "       [-1.11661765, -1.23045991,  0.87230693,  0.57793858, -1.53607451,\n",
       "         1.61443632, -0.81077131,  0.32642835,  0.81547169],\n",
       "       [-1.00783421,  0.44621811, -0.20131213, -0.19235704, -0.62598648,\n",
       "        -1.28968302,  2.32223283,  0.64094326,  0.47204824],\n",
       "       [-0.50798118,  1.21210807,  1.03378121, -0.92101506, -0.40929885,\n",
       "         0.45807089, -1.42674692, -2.07532186, -1.70296691]])"
      ]
     },
     "execution_count": 29,
     "metadata": {},
     "output_type": "execute_result"
    }
   ],
   "source": [
    "scaled_X_train\n",
    "#each set of values between [] is equal to a row"
   ]
  },
  {
   "cell_type": "code",
   "execution_count": 30,
   "metadata": {},
   "outputs": [],
   "source": [
    "base_preds = base_model.predict(scaled_X_test)"
   ]
  },
  {
   "cell_type": "code",
   "execution_count": 31,
   "metadata": {},
   "outputs": [
    {
     "data": {
      "text/plain": [
       "37    18.26\n",
       "1     41.14\n",
       "69    31.90\n",
       "80    26.42\n",
       "92    44.48\n",
       "61    39.93\n",
       "85    30.97\n",
       "53    38.59\n",
       "88    37.92\n",
       "32    52.65\n",
       "6     38.86\n",
       "71    28.16\n",
       "43    27.62\n",
       "16    28.29\n",
       "50    45.69\n",
       "31    43.95\n",
       "97    44.08\n",
       "14    32.44\n",
       "25    33.38\n",
       "51    32.04\n",
       "21    36.19\n",
       "3     42.08\n",
       "84    33.78\n",
       "57    29.63\n",
       "48    58.53\n",
       "47    43.01\n",
       "79    30.43\n",
       "58    26.42\n",
       "2     41.81\n",
       "13    33.91\n",
       "45    31.77\n",
       "Name: Compressive Strength (28-day)(Mpa), dtype: float64"
      ]
     },
     "execution_count": 31,
     "metadata": {},
     "output_type": "execute_result"
    }
   ],
   "source": [
    "y_test"
   ]
  },
  {
   "cell_type": "code",
   "execution_count": 32,
   "metadata": {},
   "outputs": [
    {
     "data": {
      "text/plain": [
       "array([33.54538508, 36.88488329, 35.31862535, 34.4982983 , 38.78862684,\n",
       "       37.28692733, 34.70488018, 37.45383093, 38.5643203 , 40.60987705,\n",
       "       36.12704821, 33.47125341, 33.80688776, 35.57395401, 39.06389895,\n",
       "       39.20405978, 38.73343751, 36.38267762, 32.54415537, 34.41850278,\n",
       "       37.08595015, 35.95245982, 35.172924  , 32.85268464, 38.10884757,\n",
       "       36.35378576, 34.496466  , 33.01047764, 36.06717968, 35.99982788,\n",
       "       34.58986779])"
      ]
     },
     "execution_count": 32,
     "metadata": {},
     "output_type": "execute_result"
    }
   ],
   "source": [
    "base_preds"
   ]
  },
  {
   "cell_type": "code",
   "execution_count": 34,
   "metadata": {},
   "outputs": [],
   "source": [
    "from sklearn.metrics import mean_absolute_error, mean_squared_error"
   ]
  },
  {
   "cell_type": "code",
   "execution_count": 35,
   "metadata": {},
   "outputs": [
    {
     "data": {
      "text/plain": [
       "5.236902091259178"
      ]
     },
     "execution_count": 35,
     "metadata": {},
     "output_type": "execute_result"
    }
   ],
   "source": [
    "mean_absolute_error(y_test, base_preds)"
   ]
  },
  {
   "cell_type": "code",
   "execution_count": 36,
   "metadata": {},
   "outputs": [
    {
     "data": {
      "text/plain": [
       "6.695914838327133"
      ]
     },
     "execution_count": 36,
     "metadata": {},
     "output_type": "execute_result"
    }
   ],
   "source": [
    "np.sqrt(mean_squared_error(y_test,base_preds))"
   ]
  },
  {
   "cell_type": "code",
   "execution_count": 38,
   "metadata": {},
   "outputs": [
    {
     "data": {
      "text/plain": [
       "36.26870967741935"
      ]
     },
     "execution_count": 38,
     "metadata": {},
     "output_type": "execute_result"
    }
   ],
   "source": [
    "y_test.mean()"
   ]
  },
  {
   "cell_type": "code",
   "execution_count": 39,
   "metadata": {},
   "outputs": [],
   "source": [
    "#Grid search why do we need it? in an attempt for a better model"
   ]
  },
  {
   "cell_type": "code",
   "execution_count": 40,
   "metadata": {},
   "outputs": [],
   "source": [
    "from sklearn.model_selection import GridSearchCV"
   ]
  },
  {
   "cell_type": "code",
   "execution_count": 43,
   "metadata": {},
   "outputs": [],
   "source": [
    "param_grid = {'C':[0.001, 0.01, 0.1, 0.5, 1], 'kernel':['linear', 'rbf', 'poly'],\n",
    "            'gamma':['scale', 'auto'],\n",
    "             'degree':[2,3,4],\n",
    "             'epsilon':[0,0.01,0.1,0.5,1,2]}"
   ]
  },
  {
   "cell_type": "code",
   "execution_count": 44,
   "metadata": {},
   "outputs": [],
   "source": [
    "svr = SVR()\n",
    "grid = GridSearchCV(svr, param_grid = param_grid)"
   ]
  },
  {
   "cell_type": "code",
   "execution_count": 45,
   "metadata": {},
   "outputs": [
    {
     "data": {
      "text/plain": [
       "GridSearchCV(estimator=SVR(),\n",
       "             param_grid={'C': [0.001, 0.01, 0.1, 0.5, 1], 'degree': [2, 3, 4],\n",
       "                         'epsilon': [0, 0.01, 0.1, 0.5, 1, 2],\n",
       "                         'gamma': ['scale', 'auto'],\n",
       "                         'kernel': ['linear', 'rbf', 'poly']})"
      ]
     },
     "execution_count": 45,
     "metadata": {},
     "output_type": "execute_result"
    }
   ],
   "source": [
    "grid.fit(scaled_X_train,y_train)"
   ]
  },
  {
   "cell_type": "code",
   "execution_count": 46,
   "metadata": {},
   "outputs": [
    {
     "data": {
      "text/plain": [
       "{'C': 1, 'degree': 2, 'epsilon': 2, 'gamma': 'scale', 'kernel': 'linear'}"
      ]
     },
     "execution_count": 46,
     "metadata": {},
     "output_type": "execute_result"
    }
   ],
   "source": [
    "grid.best_params_\n",
    "#why degree 2 and linear kernel?"
   ]
  },
  {
   "cell_type": "code",
   "execution_count": 47,
   "metadata": {},
   "outputs": [],
   "source": [
    "grid_preds = grid.predict(scaled_X_test)"
   ]
  },
  {
   "cell_type": "code",
   "execution_count": 49,
   "metadata": {},
   "outputs": [
    {
     "data": {
      "text/plain": [
       "2.5128012210762365"
      ]
     },
     "execution_count": 49,
     "metadata": {},
     "output_type": "execute_result"
    }
   ],
   "source": [
    "#Went down to 2.5 from ~5\n",
    "mean_absolute_error(y_test, grid_preds)"
   ]
  },
  {
   "cell_type": "code",
   "execution_count": 50,
   "metadata": {},
   "outputs": [
    {
     "data": {
      "text/plain": [
       "3.178210305119858"
      ]
     },
     "execution_count": 50,
     "metadata": {},
     "output_type": "execute_result"
    }
   ],
   "source": [
    "np.sqrt(mean_squared_error(y_test,grid_preds))"
   ]
  },
  {
   "cell_type": "code",
   "execution_count": 51,
   "metadata": {},
   "outputs": [
    {
     "name": "stdout",
     "output_type": "stream",
     "text": [
      "Help on class SVR in module sklearn.svm._classes:\n",
      "\n",
      "class SVR(sklearn.base.RegressorMixin, sklearn.svm._base.BaseLibSVM)\n",
      " |  SVR(*, kernel='rbf', degree=3, gamma='scale', coef0=0.0, tol=0.001, C=1.0, epsilon=0.1, shrinking=True, cache_size=200, verbose=False, max_iter=-1)\n",
      " |  \n",
      " |  Epsilon-Support Vector Regression.\n",
      " |  \n",
      " |  The free parameters in the model are C and epsilon.\n",
      " |  \n",
      " |  The implementation is based on libsvm. The fit time complexity\n",
      " |  is more than quadratic with the number of samples which makes it hard\n",
      " |  to scale to datasets with more than a couple of 10000 samples. For large\n",
      " |  datasets consider using :class:`sklearn.svm.LinearSVR` or\n",
      " |  :class:`sklearn.linear_model.SGDRegressor` instead, possibly after a\n",
      " |  :class:`sklearn.kernel_approximation.Nystroem` transformer.\n",
      " |  \n",
      " |  Read more in the :ref:`User Guide <svm_regression>`.\n",
      " |  \n",
      " |  Parameters\n",
      " |  ----------\n",
      " |  kernel : {'linear', 'poly', 'rbf', 'sigmoid', 'precomputed'}, default='rbf'\n",
      " |       Specifies the kernel type to be used in the algorithm.\n",
      " |       It must be one of 'linear', 'poly', 'rbf', 'sigmoid', 'precomputed' or\n",
      " |       a callable.\n",
      " |       If none is given, 'rbf' will be used. If a callable is given it is\n",
      " |       used to precompute the kernel matrix.\n",
      " |  \n",
      " |  degree : int, default=3\n",
      " |      Degree of the polynomial kernel function ('poly').\n",
      " |      Ignored by all other kernels.\n",
      " |  \n",
      " |  gamma : {'scale', 'auto'} or float, default='scale'\n",
      " |      Kernel coefficient for 'rbf', 'poly' and 'sigmoid'.\n",
      " |  \n",
      " |      - if ``gamma='scale'`` (default) is passed then it uses\n",
      " |        1 / (n_features * X.var()) as value of gamma,\n",
      " |      - if 'auto', uses 1 / n_features.\n",
      " |  \n",
      " |      .. versionchanged:: 0.22\n",
      " |         The default value of ``gamma`` changed from 'auto' to 'scale'.\n",
      " |  \n",
      " |  coef0 : float, default=0.0\n",
      " |      Independent term in kernel function.\n",
      " |      It is only significant in 'poly' and 'sigmoid'.\n",
      " |  \n",
      " |  tol : float, default=1e-3\n",
      " |      Tolerance for stopping criterion.\n",
      " |  \n",
      " |  C : float, default=1.0\n",
      " |      Regularization parameter. The strength of the regularization is\n",
      " |      inversely proportional to C. Must be strictly positive.\n",
      " |      The penalty is a squared l2 penalty.\n",
      " |  \n",
      " |  epsilon : float, default=0.1\n",
      " |       Epsilon in the epsilon-SVR model. It specifies the epsilon-tube\n",
      " |       within which no penalty is associated in the training loss function\n",
      " |       with points predicted within a distance epsilon from the actual\n",
      " |       value.\n",
      " |  \n",
      " |  shrinking : bool, default=True\n",
      " |      Whether to use the shrinking heuristic.\n",
      " |      See the :ref:`User Guide <shrinking_svm>`.\n",
      " |  \n",
      " |  cache_size : float, default=200\n",
      " |      Specify the size of the kernel cache (in MB).\n",
      " |  \n",
      " |  verbose : bool, default=False\n",
      " |      Enable verbose output. Note that this setting takes advantage of a\n",
      " |      per-process runtime setting in libsvm that, if enabled, may not work\n",
      " |      properly in a multithreaded context.\n",
      " |  \n",
      " |  max_iter : int, default=-1\n",
      " |      Hard limit on iterations within solver, or -1 for no limit.\n",
      " |  \n",
      " |  Attributes\n",
      " |  ----------\n",
      " |  support_ : ndarray of shape (n_SV,)\n",
      " |      Indices of support vectors.\n",
      " |  \n",
      " |  support_vectors_ : ndarray of shape (n_SV, n_features)\n",
      " |      Support vectors.\n",
      " |  \n",
      " |  dual_coef_ : ndarray of shape (1, n_SV)\n",
      " |      Coefficients of the support vector in the decision function.\n",
      " |  \n",
      " |  coef_ : ndarray of shape (1, n_features)\n",
      " |      Weights assigned to the features (coefficients in the primal\n",
      " |      problem). This is only available in the case of a linear kernel.\n",
      " |  \n",
      " |      `coef_` is readonly property derived from `dual_coef_` and\n",
      " |      `support_vectors_`.\n",
      " |  \n",
      " |  fit_status_ : int\n",
      " |      0 if correctly fitted, 1 otherwise (will raise warning)\n",
      " |  \n",
      " |  intercept_ : ndarray of shape (1,)\n",
      " |      Constants in decision function.\n",
      " |  \n",
      " |  Examples\n",
      " |  --------\n",
      " |  >>> from sklearn.svm import SVR\n",
      " |  >>> from sklearn.pipeline import make_pipeline\n",
      " |  >>> from sklearn.preprocessing import StandardScaler\n",
      " |  >>> import numpy as np\n",
      " |  >>> n_samples, n_features = 10, 5\n",
      " |  >>> rng = np.random.RandomState(0)\n",
      " |  >>> y = rng.randn(n_samples)\n",
      " |  >>> X = rng.randn(n_samples, n_features)\n",
      " |  >>> regr = make_pipeline(StandardScaler(), SVR(C=1.0, epsilon=0.2))\n",
      " |  >>> regr.fit(X, y)\n",
      " |  Pipeline(steps=[('standardscaler', StandardScaler()),\n",
      " |                  ('svr', SVR(epsilon=0.2))])\n",
      " |  \n",
      " |  \n",
      " |  See also\n",
      " |  --------\n",
      " |  NuSVR\n",
      " |      Support Vector Machine for regression implemented using libsvm\n",
      " |      using a parameter to control the number of support vectors.\n",
      " |  \n",
      " |  LinearSVR\n",
      " |      Scalable Linear Support Vector Machine for regression\n",
      " |      implemented using liblinear.\n",
      " |  \n",
      " |  Notes\n",
      " |  -----\n",
      " |  **References:**\n",
      " |  `LIBSVM: A Library for Support Vector Machines\n",
      " |  <http://www.csie.ntu.edu.tw/~cjlin/papers/libsvm.pdf>`__\n",
      " |  \n",
      " |  Method resolution order:\n",
      " |      SVR\n",
      " |      sklearn.base.RegressorMixin\n",
      " |      sklearn.svm._base.BaseLibSVM\n",
      " |      sklearn.base.BaseEstimator\n",
      " |      builtins.object\n",
      " |  \n",
      " |  Methods defined here:\n",
      " |  \n",
      " |  __init__(self, *, kernel='rbf', degree=3, gamma='scale', coef0=0.0, tol=0.001, C=1.0, epsilon=0.1, shrinking=True, cache_size=200, verbose=False, max_iter=-1)\n",
      " |      Initialize self.  See help(type(self)) for accurate signature.\n",
      " |  \n",
      " |  ----------------------------------------------------------------------\n",
      " |  Readonly properties defined here:\n",
      " |  \n",
      " |  probA_\n",
      " |  \n",
      " |  probB_\n",
      " |  \n",
      " |  ----------------------------------------------------------------------\n",
      " |  Data and other attributes defined here:\n",
      " |  \n",
      " |  __abstractmethods__ = frozenset()\n",
      " |  \n",
      " |  ----------------------------------------------------------------------\n",
      " |  Methods inherited from sklearn.base.RegressorMixin:\n",
      " |  \n",
      " |  score(self, X, y, sample_weight=None)\n",
      " |      Return the coefficient of determination R^2 of the prediction.\n",
      " |      \n",
      " |      The coefficient R^2 is defined as (1 - u/v), where u is the residual\n",
      " |      sum of squares ((y_true - y_pred) ** 2).sum() and v is the total\n",
      " |      sum of squares ((y_true - y_true.mean()) ** 2).sum().\n",
      " |      The best possible score is 1.0 and it can be negative (because the\n",
      " |      model can be arbitrarily worse). A constant model that always\n",
      " |      predicts the expected value of y, disregarding the input features,\n",
      " |      would get a R^2 score of 0.0.\n",
      " |      \n",
      " |      Parameters\n",
      " |      ----------\n",
      " |      X : array-like of shape (n_samples, n_features)\n",
      " |          Test samples. For some estimators this may be a\n",
      " |          precomputed kernel matrix or a list of generic objects instead,\n",
      " |          shape = (n_samples, n_samples_fitted),\n",
      " |          where n_samples_fitted is the number of\n",
      " |          samples used in the fitting for the estimator.\n",
      " |      \n",
      " |      y : array-like of shape (n_samples,) or (n_samples, n_outputs)\n",
      " |          True values for X.\n",
      " |      \n",
      " |      sample_weight : array-like of shape (n_samples,), default=None\n",
      " |          Sample weights.\n",
      " |      \n",
      " |      Returns\n",
      " |      -------\n",
      " |      score : float\n",
      " |          R^2 of self.predict(X) wrt. y.\n",
      " |      \n",
      " |      Notes\n",
      " |      -----\n",
      " |      The R2 score used when calling ``score`` on a regressor uses\n",
      " |      ``multioutput='uniform_average'`` from version 0.23 to keep consistent\n",
      " |      with default value of :func:`~sklearn.metrics.r2_score`.\n",
      " |      This influences the ``score`` method of all the multioutput\n",
      " |      regressors (except for\n",
      " |      :class:`~sklearn.multioutput.MultiOutputRegressor`).\n",
      " |  \n",
      " |  ----------------------------------------------------------------------\n",
      " |  Data descriptors inherited from sklearn.base.RegressorMixin:\n",
      " |  \n",
      " |  __dict__\n",
      " |      dictionary for instance variables (if defined)\n",
      " |  \n",
      " |  __weakref__\n",
      " |      list of weak references to the object (if defined)\n",
      " |  \n",
      " |  ----------------------------------------------------------------------\n",
      " |  Methods inherited from sklearn.svm._base.BaseLibSVM:\n",
      " |  \n",
      " |  fit(self, X, y, sample_weight=None)\n",
      " |      Fit the SVM model according to the given training data.\n",
      " |      \n",
      " |      Parameters\n",
      " |      ----------\n",
      " |      X : {array-like, sparse matrix} of shape (n_samples, n_features)                 or (n_samples, n_samples)\n",
      " |          Training vectors, where n_samples is the number of samples\n",
      " |          and n_features is the number of features.\n",
      " |          For kernel=\"precomputed\", the expected shape of X is\n",
      " |          (n_samples, n_samples).\n",
      " |      \n",
      " |      y : array-like of shape (n_samples,)\n",
      " |          Target values (class labels in classification, real numbers in\n",
      " |          regression)\n",
      " |      \n",
      " |      sample_weight : array-like of shape (n_samples,), default=None\n",
      " |          Per-sample weights. Rescale C per sample. Higher weights\n",
      " |          force the classifier to put more emphasis on these points.\n",
      " |      \n",
      " |      Returns\n",
      " |      -------\n",
      " |      self : object\n",
      " |      \n",
      " |      Notes\n",
      " |      -----\n",
      " |      If X and y are not C-ordered and contiguous arrays of np.float64 and\n",
      " |      X is not a scipy.sparse.csr_matrix, X and/or y may be copied.\n",
      " |      \n",
      " |      If X is a dense array, then the other methods will not support sparse\n",
      " |      matrices as input.\n",
      " |  \n",
      " |  predict(self, X)\n",
      " |      Perform regression on samples in X.\n",
      " |      \n",
      " |      For an one-class model, +1 (inlier) or -1 (outlier) is returned.\n",
      " |      \n",
      " |      Parameters\n",
      " |      ----------\n",
      " |      X : {array-like, sparse matrix} of shape (n_samples, n_features)\n",
      " |          For kernel=\"precomputed\", the expected shape of X is\n",
      " |          (n_samples_test, n_samples_train).\n",
      " |      \n",
      " |      Returns\n",
      " |      -------\n",
      " |      y_pred : ndarray of shape (n_samples,)\n",
      " |  \n",
      " |  ----------------------------------------------------------------------\n",
      " |  Readonly properties inherited from sklearn.svm._base.BaseLibSVM:\n",
      " |  \n",
      " |  coef_\n",
      " |  \n",
      " |  n_support_\n",
      " |  \n",
      " |  ----------------------------------------------------------------------\n",
      " |  Methods inherited from sklearn.base.BaseEstimator:\n",
      " |  \n",
      " |  __getstate__(self)\n",
      " |  \n",
      " |  __repr__(self, N_CHAR_MAX=700)\n",
      " |      Return repr(self).\n",
      " |  \n",
      " |  __setstate__(self, state)\n",
      " |  \n",
      " |  get_params(self, deep=True)\n",
      " |      Get parameters for this estimator.\n",
      " |      \n",
      " |      Parameters\n",
      " |      ----------\n",
      " |      deep : bool, default=True\n",
      " |          If True, will return the parameters for this estimator and\n",
      " |          contained subobjects that are estimators.\n",
      " |      \n",
      " |      Returns\n",
      " |      -------\n",
      " |      params : mapping of string to any\n",
      " |          Parameter names mapped to their values.\n",
      " |  \n",
      " |  set_params(self, **params)\n",
      " |      Set the parameters of this estimator.\n",
      " |      \n",
      " |      The method works on simple estimators as well as on nested objects\n",
      " |      (such as pipelines). The latter have parameters of the form\n",
      " |      ``<component>__<parameter>`` so that it's possible to update each\n",
      " |      component of a nested object.\n",
      " |      \n",
      " |      Parameters\n",
      " |      ----------\n",
      " |      **params : dict\n",
      " |          Estimator parameters.\n",
      " |      \n",
      " |      Returns\n",
      " |      -------\n",
      " |      self : object\n",
      " |          Estimator instance.\n",
      "\n"
     ]
    }
   ],
   "source": [
    "help(SVR)"
   ]
  },
  {
   "cell_type": "code",
   "execution_count": null,
   "metadata": {},
   "outputs": [],
   "source": []
  }
 ],
 "metadata": {
  "kernelspec": {
   "display_name": "Python 3",
   "language": "python",
   "name": "python3"
  },
  "language_info": {
   "codemirror_mode": {
    "name": "ipython",
    "version": 3
   },
   "file_extension": ".py",
   "mimetype": "text/x-python",
   "name": "python",
   "nbconvert_exporter": "python",
   "pygments_lexer": "ipython3",
   "version": "3.8.8"
  }
 },
 "nbformat": 4,
 "nbformat_minor": 4
}
