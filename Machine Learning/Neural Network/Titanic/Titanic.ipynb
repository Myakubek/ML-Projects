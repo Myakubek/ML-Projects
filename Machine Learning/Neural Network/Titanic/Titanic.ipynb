{
 "cells": [
  {
   "cell_type": "code",
   "execution_count": 1,
   "metadata": {},
   "outputs": [],
   "source": [
    "# Libraries\n",
    "import pandas as pd\n",
    "import numpy as np\n",
    "import matplotlib.pyplot as plt\n",
    "import seaborn as sns\n",
    "import os\n",
    "\n",
    "#os.chdir('C:\\\\Users\\Matthew...')\n",
    "path = os.getcwd()\n",
    "df = pd.read_csv('titanic.csv')"
   ]
  },
  {
   "cell_type": "code",
   "execution_count": 2,
   "metadata": {},
   "outputs": [
    {
     "data": {
      "text/html": [
       "<div>\n",
       "<style scoped>\n",
       "    .dataframe tbody tr th:only-of-type {\n",
       "        vertical-align: middle;\n",
       "    }\n",
       "\n",
       "    .dataframe tbody tr th {\n",
       "        vertical-align: top;\n",
       "    }\n",
       "\n",
       "    .dataframe thead th {\n",
       "        text-align: right;\n",
       "    }\n",
       "</style>\n",
       "<table border=\"1\" class=\"dataframe\">\n",
       "  <thead>\n",
       "    <tr style=\"text-align: right;\">\n",
       "      <th></th>\n",
       "      <th>pclass</th>\n",
       "      <th>survived</th>\n",
       "      <th>name</th>\n",
       "      <th>sex</th>\n",
       "      <th>age</th>\n",
       "      <th>sibsp</th>\n",
       "      <th>parch</th>\n",
       "      <th>ticket</th>\n",
       "      <th>fare</th>\n",
       "      <th>cabin</th>\n",
       "      <th>embarked</th>\n",
       "      <th>boat</th>\n",
       "      <th>body</th>\n",
       "      <th>home.dest</th>\n",
       "    </tr>\n",
       "  </thead>\n",
       "  <tbody>\n",
       "    <tr>\n",
       "      <th>0</th>\n",
       "      <td>1.0</td>\n",
       "      <td>1.0</td>\n",
       "      <td>Allen, Miss. Elisabeth Walton</td>\n",
       "      <td>female</td>\n",
       "      <td>29.0000</td>\n",
       "      <td>0.0</td>\n",
       "      <td>0.0</td>\n",
       "      <td>24160</td>\n",
       "      <td>211.3375</td>\n",
       "      <td>B5</td>\n",
       "      <td>S</td>\n",
       "      <td>2</td>\n",
       "      <td>NaN</td>\n",
       "      <td>St Louis, MO</td>\n",
       "    </tr>\n",
       "    <tr>\n",
       "      <th>1</th>\n",
       "      <td>1.0</td>\n",
       "      <td>1.0</td>\n",
       "      <td>Allison, Master. Hudson Trevor</td>\n",
       "      <td>male</td>\n",
       "      <td>0.9167</td>\n",
       "      <td>1.0</td>\n",
       "      <td>2.0</td>\n",
       "      <td>113781</td>\n",
       "      <td>151.5500</td>\n",
       "      <td>C22 C26</td>\n",
       "      <td>S</td>\n",
       "      <td>11</td>\n",
       "      <td>NaN</td>\n",
       "      <td>Montreal, PQ / Chesterville, ON</td>\n",
       "    </tr>\n",
       "    <tr>\n",
       "      <th>2</th>\n",
       "      <td>1.0</td>\n",
       "      <td>0.0</td>\n",
       "      <td>Allison, Miss. Helen Loraine</td>\n",
       "      <td>female</td>\n",
       "      <td>2.0000</td>\n",
       "      <td>1.0</td>\n",
       "      <td>2.0</td>\n",
       "      <td>113781</td>\n",
       "      <td>151.5500</td>\n",
       "      <td>C22 C26</td>\n",
       "      <td>S</td>\n",
       "      <td>NaN</td>\n",
       "      <td>NaN</td>\n",
       "      <td>Montreal, PQ / Chesterville, ON</td>\n",
       "    </tr>\n",
       "    <tr>\n",
       "      <th>3</th>\n",
       "      <td>1.0</td>\n",
       "      <td>0.0</td>\n",
       "      <td>Allison, Mr. Hudson Joshua Creighton</td>\n",
       "      <td>male</td>\n",
       "      <td>30.0000</td>\n",
       "      <td>1.0</td>\n",
       "      <td>2.0</td>\n",
       "      <td>113781</td>\n",
       "      <td>151.5500</td>\n",
       "      <td>C22 C26</td>\n",
       "      <td>S</td>\n",
       "      <td>NaN</td>\n",
       "      <td>135.0</td>\n",
       "      <td>Montreal, PQ / Chesterville, ON</td>\n",
       "    </tr>\n",
       "    <tr>\n",
       "      <th>4</th>\n",
       "      <td>1.0</td>\n",
       "      <td>0.0</td>\n",
       "      <td>Allison, Mrs. Hudson J C (Bessie Waldo Daniels)</td>\n",
       "      <td>female</td>\n",
       "      <td>25.0000</td>\n",
       "      <td>1.0</td>\n",
       "      <td>2.0</td>\n",
       "      <td>113781</td>\n",
       "      <td>151.5500</td>\n",
       "      <td>C22 C26</td>\n",
       "      <td>S</td>\n",
       "      <td>NaN</td>\n",
       "      <td>NaN</td>\n",
       "      <td>Montreal, PQ / Chesterville, ON</td>\n",
       "    </tr>\n",
       "  </tbody>\n",
       "</table>\n",
       "</div>"
      ],
      "text/plain": [
       "   pclass  survived                                             name     sex  \\\n",
       "0     1.0       1.0                    Allen, Miss. Elisabeth Walton  female   \n",
       "1     1.0       1.0                   Allison, Master. Hudson Trevor    male   \n",
       "2     1.0       0.0                     Allison, Miss. Helen Loraine  female   \n",
       "3     1.0       0.0             Allison, Mr. Hudson Joshua Creighton    male   \n",
       "4     1.0       0.0  Allison, Mrs. Hudson J C (Bessie Waldo Daniels)  female   \n",
       "\n",
       "       age  sibsp  parch  ticket      fare    cabin embarked boat   body  \\\n",
       "0  29.0000    0.0    0.0   24160  211.3375       B5        S    2    NaN   \n",
       "1   0.9167    1.0    2.0  113781  151.5500  C22 C26        S   11    NaN   \n",
       "2   2.0000    1.0    2.0  113781  151.5500  C22 C26        S  NaN    NaN   \n",
       "3  30.0000    1.0    2.0  113781  151.5500  C22 C26        S  NaN  135.0   \n",
       "4  25.0000    1.0    2.0  113781  151.5500  C22 C26        S  NaN    NaN   \n",
       "\n",
       "                         home.dest  \n",
       "0                     St Louis, MO  \n",
       "1  Montreal, PQ / Chesterville, ON  \n",
       "2  Montreal, PQ / Chesterville, ON  \n",
       "3  Montreal, PQ / Chesterville, ON  \n",
       "4  Montreal, PQ / Chesterville, ON  "
      ]
     },
     "execution_count": 2,
     "metadata": {},
     "output_type": "execute_result"
    }
   ],
   "source": [
    "#EDA\n",
    "df.head()"
   ]
  },
  {
   "cell_type": "code",
   "execution_count": 3,
   "metadata": {},
   "outputs": [
    {
     "data": {
      "text/plain": [
       "pclass          1\n",
       "survived        1\n",
       "name            1\n",
       "sex             1\n",
       "age           264\n",
       "sibsp           1\n",
       "parch           1\n",
       "ticket          1\n",
       "fare            2\n",
       "cabin        1015\n",
       "embarked        3\n",
       "boat          824\n",
       "body         1189\n",
       "home.dest     565\n",
       "dtype: int64"
      ]
     },
     "execution_count": 3,
     "metadata": {},
     "output_type": "execute_result"
    }
   ],
   "source": [
    "#detect number of missing values\n",
    "df.isna().sum()"
   ]
  },
  {
   "cell_type": "code",
   "execution_count": 4,
   "metadata": {},
   "outputs": [
    {
     "data": {
      "text/plain": [
       "<AxesSubplot:>"
      ]
     },
     "execution_count": 4,
     "metadata": {},
     "output_type": "execute_result"
    },
    {
     "data": {
      "image/png": "[encoded data removed]",
      "text/plain": [
       "<Figure size 432x288 with 1 Axes>"
      ]
     },
     "metadata": {
      "needs_background": "light"
     },
     "output_type": "display_data"
    }
   ],
   "source": [
    "#Show the columns with null values (yellow)\n",
    "sns.heatmap(df.isnull(),yticklabels=False,cbar=False,cmap='viridis')"
   ]
  },
  {
   "cell_type": "code",
   "execution_count": 5,
   "metadata": {},
   "outputs": [],
   "source": [
    "#Drop the values with high null values no impact\n",
    "df = df.drop(\"boat\", axis=1)  \n",
    "df = df.drop(\"body\", axis=1)\n",
    "df = df.drop('cabin', axis=1)\n",
    "df = df.drop('home.dest', axis=1)\n",
    "df = df.drop('name', axis = 1)\n",
    "df = df.drop('ticket', axis = 1)"
   ]
  },
  {
   "cell_type": "code",
   "execution_count": 6,
   "metadata": {},
   "outputs": [],
   "source": [
    "#Function to process and store an estimated age\n",
    "def impute_age(cols):   \n",
    "    Age = cols[0]    \n",
    "    Pclass = cols[1]       \n",
    "    if pd.isnull(Age):\n",
    "        if Pclass == 1:           \n",
    "            return 37\n",
    "        elif Pclass == 2:           \n",
    "            return 29\n",
    "        else:           \n",
    "            return 24\n",
    "    else:        return Age"
   ]
  },
  {
   "cell_type": "code",
   "execution_count": 7,
   "metadata": {},
   "outputs": [],
   "source": [
    "#Apply function to the age column\n",
    "df['age'] = df.apply(impute_age, axis=1)"
   ]
  },
  {
   "cell_type": "code",
   "execution_count": 8,
   "metadata": {},
   "outputs": [
    {
     "data": {
      "text/plain": [
       "<AxesSubplot:>"
      ]
     },
     "execution_count": 8,
     "metadata": {},
     "output_type": "execute_result"
    },
    {
     "data": {
      "image/png": "[encoded data removed]",
      "text/plain": [
       "<Figure size 432x288 with 1 Axes>"
      ]
     },
     "metadata": {
      "needs_background": "light"
     },
     "output_type": "display_data"
    }
   ],
   "source": [
    "#Now nearly all non-null values\n",
    "sns.heatmap(df.isnull(),yticklabels=False,cbar=False,cmap='viridis')"
   ]
  },
  {
   "cell_type": "code",
   "execution_count": 9,
   "metadata": {},
   "outputs": [
    {
     "name": "stdout",
     "output_type": "stream",
     "text": [
      "<class 'pandas.core.frame.DataFrame'>\n",
      "Int64Index: 1306 entries, 0 to 1308\n",
      "Data columns (total 8 columns):\n",
      " #   Column    Non-Null Count  Dtype  \n",
      "---  ------    --------------  -----  \n",
      " 0   pclass    1306 non-null   float64\n",
      " 1   survived  1306 non-null   float64\n",
      " 2   sex       1306 non-null   object \n",
      " 3   age       1306 non-null   float64\n",
      " 4   sibsp     1306 non-null   float64\n",
      " 5   parch     1306 non-null   float64\n",
      " 6   fare      1306 non-null   float64\n",
      " 7   embarked  1306 non-null   object \n",
      "dtypes: float64(6), object(2)\n",
      "memory usage: 91.8+ KB\n"
     ]
    }
   ],
   "source": [
    "#Drop the non applicable to get all non-null counts shown with info\n",
    "df = df.dropna()\n",
    "df.info()"
   ]
  },
  {
   "cell_type": "code",
   "execution_count": 10,
   "metadata": {},
   "outputs": [
    {
     "data": {
      "text/html": [
       "<div>\n",
       "<style scoped>\n",
       "    .dataframe tbody tr th:only-of-type {\n",
       "        vertical-align: middle;\n",
       "    }\n",
       "\n",
       "    .dataframe tbody tr th {\n",
       "        vertical-align: top;\n",
       "    }\n",
       "\n",
       "    .dataframe thead th {\n",
       "        text-align: right;\n",
       "    }\n",
       "</style>\n",
       "<table border=\"1\" class=\"dataframe\">\n",
       "  <thead>\n",
       "    <tr style=\"text-align: right;\">\n",
       "      <th></th>\n",
       "      <th>pclass</th>\n",
       "      <th>survived</th>\n",
       "      <th>sex</th>\n",
       "      <th>age</th>\n",
       "      <th>sibsp</th>\n",
       "      <th>parch</th>\n",
       "      <th>fare</th>\n",
       "      <th>embarked</th>\n",
       "    </tr>\n",
       "  </thead>\n",
       "  <tbody>\n",
       "    <tr>\n",
       "      <th>0</th>\n",
       "      <td>1.0</td>\n",
       "      <td>1.0</td>\n",
       "      <td>female</td>\n",
       "      <td>1.0</td>\n",
       "      <td>0.0</td>\n",
       "      <td>0.0</td>\n",
       "      <td>211.3375</td>\n",
       "      <td>S</td>\n",
       "    </tr>\n",
       "    <tr>\n",
       "      <th>1</th>\n",
       "      <td>1.0</td>\n",
       "      <td>1.0</td>\n",
       "      <td>male</td>\n",
       "      <td>1.0</td>\n",
       "      <td>1.0</td>\n",
       "      <td>2.0</td>\n",
       "      <td>151.5500</td>\n",
       "      <td>S</td>\n",
       "    </tr>\n",
       "    <tr>\n",
       "      <th>2</th>\n",
       "      <td>1.0</td>\n",
       "      <td>0.0</td>\n",
       "      <td>female</td>\n",
       "      <td>1.0</td>\n",
       "      <td>1.0</td>\n",
       "      <td>2.0</td>\n",
       "      <td>151.5500</td>\n",
       "      <td>S</td>\n",
       "    </tr>\n",
       "    <tr>\n",
       "      <th>3</th>\n",
       "      <td>1.0</td>\n",
       "      <td>0.0</td>\n",
       "      <td>male</td>\n",
       "      <td>1.0</td>\n",
       "      <td>1.0</td>\n",
       "      <td>2.0</td>\n",
       "      <td>151.5500</td>\n",
       "      <td>S</td>\n",
       "    </tr>\n",
       "    <tr>\n",
       "      <th>4</th>\n",
       "      <td>1.0</td>\n",
       "      <td>0.0</td>\n",
       "      <td>female</td>\n",
       "      <td>1.0</td>\n",
       "      <td>1.0</td>\n",
       "      <td>2.0</td>\n",
       "      <td>151.5500</td>\n",
       "      <td>S</td>\n",
       "    </tr>\n",
       "  </tbody>\n",
       "</table>\n",
       "</div>"
      ],
      "text/plain": [
       "   pclass  survived     sex  age  sibsp  parch      fare embarked\n",
       "0     1.0       1.0  female  1.0    0.0    0.0  211.3375        S\n",
       "1     1.0       1.0    male  1.0    1.0    2.0  151.5500        S\n",
       "2     1.0       0.0  female  1.0    1.0    2.0  151.5500        S\n",
       "3     1.0       0.0    male  1.0    1.0    2.0  151.5500        S\n",
       "4     1.0       0.0  female  1.0    1.0    2.0  151.5500        S"
      ]
     },
     "execution_count": 10,
     "metadata": {},
     "output_type": "execute_result"
    }
   ],
   "source": [
    "df.head()"
   ]
  },
  {
   "cell_type": "code",
   "execution_count": 11,
   "metadata": {},
   "outputs": [
    {
     "name": "stdout",
     "output_type": "stream",
     "text": [
      "['female' 'male']\n"
     ]
    }
   ],
   "source": [
    "print(df['sex'].unique())"
   ]
  },
  {
   "cell_type": "code",
   "execution_count": 12,
   "metadata": {},
   "outputs": [],
   "source": [
    "#Change the values of sex to 0 or 1\n",
    "def sex_toFloat(cols):      \n",
    "    island = cols[2]\n",
    "    if island == \"female\":           \n",
    "        return 0\n",
    "    else:       \n",
    "        return 1"
   ]
  },
  {
   "cell_type": "code",
   "execution_count": 13,
   "metadata": {},
   "outputs": [
    {
     "name": "stdout",
     "output_type": "stream",
     "text": [
      "[0 1]\n"
     ]
    }
   ],
   "source": [
    "df['sex'] = df.apply(sex_toFloat, axis=1)\n",
    "print(df['sex'].unique())"
   ]
  },
  {
   "cell_type": "code",
   "execution_count": 14,
   "metadata": {},
   "outputs": [],
   "source": [
    "#Change the value of Embarked to 0, 1, or 2\n",
    "def embarked_toFloat(cols):      \n",
    "    island = cols[7]\n",
    "    if island == \"S\":           \n",
    "        return 1\n",
    "    elif island == \"C\":           \n",
    "        return 2\n",
    "    else:           \n",
    "        return 3"
   ]
  },
  {
   "cell_type": "code",
   "execution_count": 15,
   "metadata": {},
   "outputs": [
    {
     "name": "stdout",
     "output_type": "stream",
     "text": [
      "[1 2 3]\n"
     ]
    }
   ],
   "source": [
    "df['embarked'] = df.apply(embarked_toFloat, axis=1)\n",
    "print(df['embarked'].unique())"
   ]
  },
  {
   "cell_type": "code",
   "execution_count": 16,
   "metadata": {},
   "outputs": [
    {
     "data": {
      "text/plain": [
       "StandardScaler()"
      ]
     },
     "execution_count": 16,
     "metadata": {},
     "output_type": "execute_result"
    }
   ],
   "source": [
    "#PCA\n",
    "from sklearn.preprocessing import StandardScaler\n",
    "scaler = StandardScaler()\n",
    "scaler.fit(df)"
   ]
  },
  {
   "cell_type": "code",
   "execution_count": 17,
   "metadata": {},
   "outputs": [],
   "source": [
    "scaled_data = scaler.transform(df)"
   ]
  },
  {
   "cell_type": "code",
   "execution_count": 18,
   "metadata": {
    "scrolled": true
   },
   "outputs": [
    {
     "data": {
      "text/plain": [
       "array([[-1.54930064,  1.27376998, -1.34709137, ..., -0.44561167,\n",
       "         3.44206278, -0.60438122],\n",
       "       [-1.54930064,  1.27376998,  0.74234014, ...,  1.8637885 ,\n",
       "         2.28666312, -0.60438122],\n",
       "       [-1.54930064, -0.7850711 , -1.34709137, ...,  1.8637885 ,\n",
       "         2.28666312, -0.60438122],\n",
       "       ...,\n",
       "       [ 0.84099663, -0.7850711 ,  0.74234014, ..., -0.44561167,\n",
       "        -0.50243254,  0.92531233],\n",
       "       [ 0.84099663, -0.7850711 ,  0.74234014, ..., -0.44561167,\n",
       "        -0.50243254,  0.92531233],\n",
       "       [ 0.84099663, -0.7850711 ,  0.74234014, ..., -0.44561167,\n",
       "        -0.48987122, -0.60438122]])"
      ]
     },
     "execution_count": 18,
     "metadata": {},
     "output_type": "execute_result"
    }
   ],
   "source": [
    "scaled_data"
   ]
  },
  {
   "cell_type": "code",
   "execution_count": 19,
   "metadata": {},
   "outputs": [
    {
     "data": {
      "text/plain": [
       "PCA(n_components=2)"
      ]
     },
     "execution_count": 19,
     "metadata": {},
     "output_type": "execute_result"
    }
   ],
   "source": [
    "# https://scikit-learn.org/stable/modules/generated/sklearn.decomposition.PCA.html\n",
    "from sklearn.decomposition import PCA\n",
    "pca = PCA(n_components=2)\n",
    "pca.fit(scaled_data)"
   ]
  },
  {
   "cell_type": "code",
   "execution_count": 20,
   "metadata": {},
   "outputs": [
    {
     "name": "stdout",
     "output_type": "stream",
     "text": [
      "(1306, 8)\n",
      "(1306, 2)\n"
     ]
    }
   ],
   "source": [
    "x_pca = pca.transform(scaled_data)\n",
    "print(scaled_data.shape)\n",
    "print(x_pca.shape)"
   ]
  },
  {
   "cell_type": "code",
   "execution_count": 22,
   "metadata": {},
   "outputs": [
    {
     "data": {
      "text/plain": [
       "Text(0, 0.5, 'Second principal component')"
      ]
     },
     "execution_count": 22,
     "metadata": {},
     "output_type": "execute_result"
    },
    {
     "data": {
      "image/png": "[encoded data removed]",
      "text/plain": [
       "<Figure size 576x432 with 1 Axes>"
      ]
     },
     "metadata": {
      "needs_background": "light"
     },
     "output_type": "display_data"
    }
   ],
   "source": [
    "plt.figure(figsize=(8,6))\n",
    "plt.scatter(x_pca[:,0],x_pca[:,1], c=df['survived'], cmap='plasma')\n",
    "plt.xlabel('First principal component')\n",
    "plt.ylabel('Second principal component')"
   ]
  },
  {
   "cell_type": "code",
   "execution_count": 23,
   "metadata": {},
   "outputs": [
    {
     "data": {
      "text/plain": [
       "array([[-0.54737253,  0.34708759, -0.25110769, -0.54737253,  0.03640547,\n",
       "         0.10293621,  0.45254566,  0.0228683 ],\n",
       "       [ 0.26550167,  0.19568742, -0.42067772,  0.26550167,  0.53852798,\n",
       "         0.58914964,  0.08150236, -0.00145096]])"
      ]
     },
     "execution_count": 23,
     "metadata": {},
     "output_type": "execute_result"
    }
   ],
   "source": [
    "#interpreting the components\n",
    "#cost of PCA is not being able to easily understand what these components represent\n",
    "pca.components_"
   ]
  },
  {
   "cell_type": "code",
   "execution_count": 24,
   "metadata": {},
   "outputs": [
    {
     "data": {
      "text/plain": [
       "Index(['pclass', 'survived', 'sex', 'age', 'sibsp', 'parch', 'fare',\n",
       "       'embarked'],\n",
       "      dtype='object')"
      ]
     },
     "execution_count": 24,
     "metadata": {},
     "output_type": "execute_result"
    }
   ],
   "source": [
    "df.columns"
   ]
  },
  {
   "cell_type": "code",
   "execution_count": 25,
   "metadata": {},
   "outputs": [
    {
     "name": "stdout",
     "output_type": "stream",
     "text": [
      "Index(['pclass', 'survived', 'sex', 'age', 'sibsp', 'parch', 'fare',\n",
      "       'embarked'],\n",
      "      dtype='object')\n"
     ]
    },
    {
     "data": {
      "text/plain": [
       "<AxesSubplot:>"
      ]
     },
     "execution_count": 25,
     "metadata": {},
     "output_type": "execute_result"
    },
    {
     "data": {
      "image/png": "[encoded data removed]",
      "text/plain": [
       "<Figure size 864x432 with 2 Axes>"
      ]
     },
     "metadata": {
      "needs_background": "light"
     },
     "output_type": "display_data"
    }
   ],
   "source": [
    "#Print heatmap correlation of two new components\n",
    "print(df.columns)\n",
    "df_comp = pd.DataFrame(pca.components_, columns=df.columns)\n",
    "plt.figure(figsize=(12,6))\n",
    "sns.heatmap(df_comp, cmap='plasma')"
   ]
  },
  {
   "cell_type": "code",
   "execution_count": 26,
   "metadata": {},
   "outputs": [],
   "source": [
    "from keras.models import Sequential\n",
    "from keras.layers import Dense\n",
    "from sklearn.preprocessing import OneHotEncoder\n",
    "from sklearn.model_selection import train_test_split\n",
    "from keras.optimizers import Adam"
   ]
  },
  {
   "cell_type": "code",
   "execution_count": 27,
   "metadata": {},
   "outputs": [],
   "source": [
    "features = pca.components_"
   ]
  },
  {
   "cell_type": "code",
   "execution_count": 29,
   "metadata": {},
   "outputs": [],
   "source": [
    "y = np.array(df.survived).reshape(-1, 1)"
   ]
  },
  {
   "cell_type": "code",
   "execution_count": 30,
   "metadata": {},
   "outputs": [],
   "source": [
    "# we have 2 classes so the labels will have 2 values\n",
    "# first class: (1,0) second class: (0,1)\n",
    "encoder = OneHotEncoder()\n",
    "targets = encoder.fit_transform(y).toarray()"
   ]
  },
  {
   "cell_type": "code",
   "execution_count": 31,
   "metadata": {},
   "outputs": [
    {
     "data": {
      "text/plain": [
       "array([[ 3.95699781, -0.2462164 ],\n",
       "       [ 3.1821073 ,  0.65795259],\n",
       "       [ 2.99218143,  1.13404059],\n",
       "       ...,\n",
       "       [-1.64912158, -0.58253237],\n",
       "       [-1.64912158, -0.58253237],\n",
       "       [-1.6784185 , -0.57928907]])"
      ]
     },
     "execution_count": 31,
     "metadata": {},
     "output_type": "execute_result"
    }
   ],
   "source": [
    "train_features, test_features, train_targets, test_targets = train_test_split(x_pca, targets, test_size=0.2)\n",
    "x_pca"
   ]
  },
  {
   "cell_type": "code",
   "execution_count": 32,
   "metadata": {},
   "outputs": [],
   "source": [
    "model = Sequential()\n",
    "model.add(Dense(10, input_dim=2, activation='sigmoid'))\n",
    "model.add(Dense(2, activation='softmax'))"
   ]
  },
  {
   "cell_type": "code",
   "execution_count": 33,
   "metadata": {},
   "outputs": [],
   "source": [
    "optimizer = Adam(lr=0.001)\n",
    "model.compile(loss='categorical_crossentropy',\n",
    "              optimizer=optimizer,\n",
    "              metrics=['accuracy'])"
   ]
  },
  {
   "cell_type": "code",
   "execution_count": 35,
   "metadata": {},
   "outputs": [
    {
     "name": "stdout",
     "output_type": "stream",
     "text": [
      "Epoch 1/50\n",
      "33/33 - 0s - loss: 0.1309 - accuracy: 0.9559\n",
      "Epoch 2/50\n",
      "33/33 - 0s - loss: 0.1309 - accuracy: 0.9540\n",
      "Epoch 3/50\n",
      "33/33 - 0s - loss: 0.1309 - accuracy: 0.9483\n",
      "Epoch 4/50\n",
      "33/33 - 0s - loss: 0.1308 - accuracy: 0.9531\n",
      "Epoch 5/50\n",
      "33/33 - 0s - loss: 0.1308 - accuracy: 0.9483\n",
      "Epoch 6/50\n",
      "33/33 - 0s - loss: 0.1313 - accuracy: 0.9531\n",
      "Epoch 7/50\n",
      "33/33 - 0s - loss: 0.1308 - accuracy: 0.9492\n",
      "Epoch 8/50\n",
      "33/33 - 0s - loss: 0.1307 - accuracy: 0.9559\n",
      "Epoch 9/50\n",
      "33/33 - 0s - loss: 0.1306 - accuracy: 0.9502\n",
      "Epoch 10/50\n",
      "33/33 - 0s - loss: 0.1306 - accuracy: 0.9492\n",
      "Epoch 11/50\n",
      "33/33 - 0s - loss: 0.1306 - accuracy: 0.9569\n",
      "Epoch 12/50\n",
      "33/33 - 0s - loss: 0.1306 - accuracy: 0.9559\n",
      "Epoch 13/50\n",
      "33/33 - 0s - loss: 0.1305 - accuracy: 0.9579\n",
      "Epoch 14/50\n",
      "33/33 - 0s - loss: 0.1306 - accuracy: 0.9502\n",
      "Epoch 15/50\n",
      "33/33 - 0s - loss: 0.1304 - accuracy: 0.9531\n",
      "Epoch 16/50\n",
      "33/33 - 0s - loss: 0.1304 - accuracy: 0.9531\n",
      "Epoch 17/50\n",
      "33/33 - 0s - loss: 0.1303 - accuracy: 0.9540\n",
      "Epoch 18/50\n",
      "33/33 - 0s - loss: 0.1303 - accuracy: 0.9579\n",
      "Epoch 19/50\n",
      "33/33 - 0s - loss: 0.1302 - accuracy: 0.9492\n",
      "Epoch 20/50\n",
      "33/33 - 0s - loss: 0.1302 - accuracy: 0.9492\n",
      "Epoch 21/50\n",
      "33/33 - 0s - loss: 0.1303 - accuracy: 0.9492\n",
      "Epoch 22/50\n",
      "33/33 - 0s - loss: 0.1301 - accuracy: 0.9502\n",
      "Epoch 23/50\n",
      "33/33 - 0s - loss: 0.1302 - accuracy: 0.9569\n",
      "Epoch 24/50\n",
      "33/33 - 0s - loss: 0.1301 - accuracy: 0.9531\n",
      "Epoch 25/50\n",
      "33/33 - 0s - loss: 0.1301 - accuracy: 0.9521\n",
      "Epoch 26/50\n",
      "33/33 - 0s - loss: 0.1300 - accuracy: 0.9502\n",
      "Epoch 27/50\n",
      "33/33 - 0s - loss: 0.1301 - accuracy: 0.9540\n",
      "Epoch 28/50\n",
      "33/33 - 0s - loss: 0.1300 - accuracy: 0.9511\n",
      "Epoch 29/50\n",
      "33/33 - 0s - loss: 0.1300 - accuracy: 0.9569\n",
      "Epoch 30/50\n",
      "33/33 - 0s - loss: 0.1298 - accuracy: 0.9521\n",
      "Epoch 31/50\n",
      "33/33 - 0s - loss: 0.1299 - accuracy: 0.9569\n",
      "Epoch 32/50\n",
      "33/33 - 0s - loss: 0.1299 - accuracy: 0.9559\n",
      "Epoch 33/50\n",
      "33/33 - 0s - loss: 0.1298 - accuracy: 0.9579\n",
      "Epoch 34/50\n",
      "33/33 - 0s - loss: 0.1299 - accuracy: 0.9559\n",
      "Epoch 35/50\n",
      "33/33 - 0s - loss: 0.1298 - accuracy: 0.9511\n",
      "Epoch 36/50\n",
      "33/33 - 0s - loss: 0.1296 - accuracy: 0.9559\n",
      "Epoch 37/50\n",
      "33/33 - 0s - loss: 0.1299 - accuracy: 0.9540\n",
      "Epoch 38/50\n",
      "33/33 - 0s - loss: 0.1295 - accuracy: 0.9492\n",
      "Epoch 39/50\n",
      "33/33 - 0s - loss: 0.1296 - accuracy: 0.9579\n",
      "Epoch 40/50\n",
      "33/33 - 0s - loss: 0.1295 - accuracy: 0.9579\n",
      "Epoch 41/50\n",
      "33/33 - 0s - loss: 0.1295 - accuracy: 0.9540\n",
      "Epoch 42/50\n",
      "33/33 - 0s - loss: 0.1295 - accuracy: 0.9559\n",
      "Epoch 43/50\n",
      "33/33 - 0s - loss: 0.1294 - accuracy: 0.9579\n",
      "Epoch 44/50\n",
      "33/33 - 0s - loss: 0.1294 - accuracy: 0.9531\n",
      "Epoch 45/50\n",
      "33/33 - 0s - loss: 0.1295 - accuracy: 0.9502\n",
      "Epoch 46/50\n",
      "33/33 - 0s - loss: 0.1293 - accuracy: 0.9569\n",
      "Epoch 47/50\n",
      "33/33 - 0s - loss: 0.1292 - accuracy: 0.9550\n",
      "Epoch 48/50\n",
      "33/33 - 0s - loss: 0.1292 - accuracy: 0.9492\n",
      "Epoch 49/50\n",
      "33/33 - 0s - loss: 0.1292 - accuracy: 0.9550\n",
      "Epoch 50/50\n",
      "33/33 - 0s - loss: 0.1293 - accuracy: 0.9579\n",
      "9/9 [==============================] - 0s 499us/step - loss: 0.1778 - accuracy: 0.9351\n",
      "Training is finished... The loss and accuracy values are:\n",
      "[0.17783185839653015, 0.9351145029067993]\n"
     ]
    }
   ],
   "source": [
    "model.fit(train_features, train_targets, epochs=50, verbose=2)\n",
    "results = model.evaluate(test_features, test_targets, use_multiprocessing=True)\n",
    "\n",
    "print(\"Training is finished... The loss and accuracy values are:\")\n",
    "print(results)"
   ]
  },
  {
   "cell_type": "code",
   "execution_count": null,
   "metadata": {},
   "outputs": [],
   "source": []
  }
 ],
 "metadata": {
  "kernelspec": {
   "display_name": "Python 3",
   "language": "python",
   "name": "python3"
  },
  "language_info": {
   "codemirror_mode": {
    "name": "ipython",
    "version": 3
   },
   "file_extension": ".py",
   "mimetype": "text/x-python",
   "name": "python",
   "nbconvert_exporter": "python",
   "pygments_lexer": "ipython3",
   "version": "3.8.8"
  }
 },
 "nbformat": 4,
 "nbformat_minor": 4
}
