{
 "cells": [
  {
   "cell_type": "code",
   "execution_count": 1,
   "metadata": {},
   "outputs": [],
   "source": [
    "# Libraries\n",
    "import pandas as pd\n",
    "import numpy as np\n",
    "import matplotlib.pyplot as plt\n",
    "import seaborn as sns\n",
    "import os\n",
    "\n",
    "#os.chdir('C:\\\\Users\\Matthew...')\n",
    "path = os.getcwd()\n",
    "df = pd.read_csv(\"penguins_size.csv\") "
   ]
  },
  {
   "cell_type": "code",
   "execution_count": 2,
   "metadata": {},
   "outputs": [
    {
     "data": {
      "text/html": [
       "<div>\n",
       "<style scoped>\n",
       "    .dataframe tbody tr th:only-of-type {\n",
       "        vertical-align: middle;\n",
       "    }\n",
       "\n",
       "    .dataframe tbody tr th {\n",
       "        vertical-align: top;\n",
       "    }\n",
       "\n",
       "    .dataframe thead th {\n",
       "        text-align: right;\n",
       "    }\n",
       "</style>\n",
       "<table border=\"1\" class=\"dataframe\">\n",
       "  <thead>\n",
       "    <tr style=\"text-align: right;\">\n",
       "      <th></th>\n",
       "      <th>species</th>\n",
       "      <th>island</th>\n",
       "      <th>culmen_length_mm</th>\n",
       "      <th>culmen_depth_mm</th>\n",
       "      <th>flipper_length_mm</th>\n",
       "      <th>body_mass_g</th>\n",
       "      <th>sex</th>\n",
       "    </tr>\n",
       "  </thead>\n",
       "  <tbody>\n",
       "    <tr>\n",
       "      <th>0</th>\n",
       "      <td>Adelie</td>\n",
       "      <td>Torgersen</td>\n",
       "      <td>39.1</td>\n",
       "      <td>18.7</td>\n",
       "      <td>181.0</td>\n",
       "      <td>3750.0</td>\n",
       "      <td>MALE</td>\n",
       "    </tr>\n",
       "    <tr>\n",
       "      <th>1</th>\n",
       "      <td>Adelie</td>\n",
       "      <td>Torgersen</td>\n",
       "      <td>39.5</td>\n",
       "      <td>17.4</td>\n",
       "      <td>186.0</td>\n",
       "      <td>3800.0</td>\n",
       "      <td>FEMALE</td>\n",
       "    </tr>\n",
       "    <tr>\n",
       "      <th>2</th>\n",
       "      <td>Adelie</td>\n",
       "      <td>Torgersen</td>\n",
       "      <td>40.3</td>\n",
       "      <td>18.0</td>\n",
       "      <td>195.0</td>\n",
       "      <td>3250.0</td>\n",
       "      <td>FEMALE</td>\n",
       "    </tr>\n",
       "    <tr>\n",
       "      <th>3</th>\n",
       "      <td>Adelie</td>\n",
       "      <td>Torgersen</td>\n",
       "      <td>NaN</td>\n",
       "      <td>NaN</td>\n",
       "      <td>NaN</td>\n",
       "      <td>NaN</td>\n",
       "      <td>NaN</td>\n",
       "    </tr>\n",
       "    <tr>\n",
       "      <th>4</th>\n",
       "      <td>Adelie</td>\n",
       "      <td>Torgersen</td>\n",
       "      <td>36.7</td>\n",
       "      <td>19.3</td>\n",
       "      <td>193.0</td>\n",
       "      <td>3450.0</td>\n",
       "      <td>FEMALE</td>\n",
       "    </tr>\n",
       "  </tbody>\n",
       "</table>\n",
       "</div>"
      ],
      "text/plain": [
       "  species     island  culmen_length_mm  culmen_depth_mm  flipper_length_mm  \\\n",
       "0  Adelie  Torgersen              39.1             18.7              181.0   \n",
       "1  Adelie  Torgersen              39.5             17.4              186.0   \n",
       "2  Adelie  Torgersen              40.3             18.0              195.0   \n",
       "3  Adelie  Torgersen               NaN              NaN                NaN   \n",
       "4  Adelie  Torgersen              36.7             19.3              193.0   \n",
       "\n",
       "   body_mass_g     sex  \n",
       "0       3750.0    MALE  \n",
       "1       3800.0  FEMALE  \n",
       "2       3250.0  FEMALE  \n",
       "3          NaN     NaN  \n",
       "4       3450.0  FEMALE  "
      ]
     },
     "execution_count": 2,
     "metadata": {},
     "output_type": "execute_result"
    }
   ],
   "source": [
    "df.head()"
   ]
  },
  {
   "cell_type": "code",
   "execution_count": 3,
   "metadata": {},
   "outputs": [
    {
     "name": "stdout",
     "output_type": "stream",
     "text": [
      "<class 'pandas.core.frame.DataFrame'>\n",
      "Int64Index: 333 entries, 0 to 343\n",
      "Data columns (total 7 columns):\n",
      " #   Column             Non-Null Count  Dtype  \n",
      "---  ------             --------------  -----  \n",
      " 0   species            333 non-null    object \n",
      " 1   island             333 non-null    object \n",
      " 2   culmen_length_mm   333 non-null    float64\n",
      " 3   culmen_depth_mm    333 non-null    float64\n",
      " 4   flipper_length_mm  333 non-null    float64\n",
      " 5   body_mass_g        333 non-null    float64\n",
      " 6   sex                333 non-null    object \n",
      "dtypes: float64(4), object(3)\n",
      "memory usage: 20.8+ KB\n"
     ]
    }
   ],
   "source": [
    "#There's a column with . as the sex, drop this\n",
    "df = df[df['sex']!='.']\n",
    "\n",
    "#There are null values, drop them and check info\n",
    "df = df.dropna()\n",
    "df.info()"
   ]
  },
  {
   "cell_type": "code",
   "execution_count": 4,
   "metadata": {},
   "outputs": [],
   "source": [
    "#Change the values of penguin species to 1, 2, and 3\n",
    "def species_toFloat(cols):      \n",
    "    species = cols[0]       \n",
    "    if species == \"Adelie\":           \n",
    "        return 1\n",
    "    elif species == \"Chinstrap\":           \n",
    "        return 2\n",
    "    else:           \n",
    "        return 3"
   ]
  },
  {
   "cell_type": "code",
   "execution_count": 5,
   "metadata": {},
   "outputs": [
    {
     "name": "stdout",
     "output_type": "stream",
     "text": [
      "[1 2 3]\n"
     ]
    }
   ],
   "source": [
    "df['species'] = df.apply(species_toFloat, axis=1)\n",
    "print(df['species'].unique())"
   ]
  },
  {
   "cell_type": "code",
   "execution_count": 6,
   "metadata": {},
   "outputs": [],
   "source": [
    "#Change the values of islands to 1, 2, and 3\n",
    "def island_toFloat(cols):      \n",
    "    island = cols[1]\n",
    "    if island == \"Torgersen\":           \n",
    "        return 1\n",
    "    elif island == \"Biscoe\":           \n",
    "        return 2\n",
    "    else:           \n",
    "        return 3"
   ]
  },
  {
   "cell_type": "code",
   "execution_count": 7,
   "metadata": {},
   "outputs": [
    {
     "name": "stdout",
     "output_type": "stream",
     "text": [
      "[1 2 3]\n"
     ]
    }
   ],
   "source": [
    "df['island'] = df.apply(island_toFloat, axis=1)\n",
    "print(df['island'].unique())"
   ]
  },
  {
   "cell_type": "code",
   "execution_count": 8,
   "metadata": {},
   "outputs": [],
   "source": [
    "#Change the values of sex to 0 or 1\n",
    "def sex_toFloat(cols):      \n",
    "    island = cols[6]\n",
    "    if island == \"MALE\":           \n",
    "        return 0\n",
    "    else:       \n",
    "        return 1"
   ]
  },
  {
   "cell_type": "code",
   "execution_count": 9,
   "metadata": {},
   "outputs": [
    {
     "name": "stdout",
     "output_type": "stream",
     "text": [
      "[0 1]\n"
     ]
    }
   ],
   "source": [
    "df['sex'] = df.apply(sex_toFloat, axis=1)\n",
    "print(df['sex'].unique())"
   ]
  },
  {
   "cell_type": "code",
   "execution_count": 10,
   "metadata": {},
   "outputs": [
    {
     "data": {
      "text/html": [
       "<div>\n",
       "<style scoped>\n",
       "    .dataframe tbody tr th:only-of-type {\n",
       "        vertical-align: middle;\n",
       "    }\n",
       "\n",
       "    .dataframe tbody tr th {\n",
       "        vertical-align: top;\n",
       "    }\n",
       "\n",
       "    .dataframe thead th {\n",
       "        text-align: right;\n",
       "    }\n",
       "</style>\n",
       "<table border=\"1\" class=\"dataframe\">\n",
       "  <thead>\n",
       "    <tr style=\"text-align: right;\">\n",
       "      <th></th>\n",
       "      <th>species</th>\n",
       "      <th>island</th>\n",
       "      <th>culmen_length_mm</th>\n",
       "      <th>culmen_depth_mm</th>\n",
       "      <th>flipper_length_mm</th>\n",
       "      <th>body_mass_g</th>\n",
       "      <th>sex</th>\n",
       "    </tr>\n",
       "  </thead>\n",
       "  <tbody>\n",
       "    <tr>\n",
       "      <th>0</th>\n",
       "      <td>1</td>\n",
       "      <td>1</td>\n",
       "      <td>39.1</td>\n",
       "      <td>18.7</td>\n",
       "      <td>181.0</td>\n",
       "      <td>3750.0</td>\n",
       "      <td>0</td>\n",
       "    </tr>\n",
       "    <tr>\n",
       "      <th>1</th>\n",
       "      <td>1</td>\n",
       "      <td>1</td>\n",
       "      <td>39.5</td>\n",
       "      <td>17.4</td>\n",
       "      <td>186.0</td>\n",
       "      <td>3800.0</td>\n",
       "      <td>1</td>\n",
       "    </tr>\n",
       "    <tr>\n",
       "      <th>2</th>\n",
       "      <td>1</td>\n",
       "      <td>1</td>\n",
       "      <td>40.3</td>\n",
       "      <td>18.0</td>\n",
       "      <td>195.0</td>\n",
       "      <td>3250.0</td>\n",
       "      <td>1</td>\n",
       "    </tr>\n",
       "    <tr>\n",
       "      <th>4</th>\n",
       "      <td>1</td>\n",
       "      <td>1</td>\n",
       "      <td>36.7</td>\n",
       "      <td>19.3</td>\n",
       "      <td>193.0</td>\n",
       "      <td>3450.0</td>\n",
       "      <td>1</td>\n",
       "    </tr>\n",
       "    <tr>\n",
       "      <th>5</th>\n",
       "      <td>1</td>\n",
       "      <td>1</td>\n",
       "      <td>39.3</td>\n",
       "      <td>20.6</td>\n",
       "      <td>190.0</td>\n",
       "      <td>3650.0</td>\n",
       "      <td>0</td>\n",
       "    </tr>\n",
       "  </tbody>\n",
       "</table>\n",
       "</div>"
      ],
      "text/plain": [
       "   species  island  culmen_length_mm  culmen_depth_mm  flipper_length_mm  \\\n",
       "0        1       1              39.1             18.7              181.0   \n",
       "1        1       1              39.5             17.4              186.0   \n",
       "2        1       1              40.3             18.0              195.0   \n",
       "4        1       1              36.7             19.3              193.0   \n",
       "5        1       1              39.3             20.6              190.0   \n",
       "\n",
       "   body_mass_g  sex  \n",
       "0       3750.0    0  \n",
       "1       3800.0    1  \n",
       "2       3250.0    1  \n",
       "4       3450.0    1  \n",
       "5       3650.0    0  "
      ]
     },
     "execution_count": 10,
     "metadata": {},
     "output_type": "execute_result"
    }
   ],
   "source": [
    "df.head()"
   ]
  },
  {
   "cell_type": "code",
   "execution_count": 11,
   "metadata": {},
   "outputs": [
    {
     "name": "stdout",
     "output_type": "stream",
     "text": [
      "<class 'pandas.core.frame.DataFrame'>\n",
      "Int64Index: 333 entries, 0 to 343\n",
      "Data columns (total 7 columns):\n",
      " #   Column             Non-Null Count  Dtype  \n",
      "---  ------             --------------  -----  \n",
      " 0   species            333 non-null    int64  \n",
      " 1   island             333 non-null    int64  \n",
      " 2   culmen_length_mm   333 non-null    float64\n",
      " 3   culmen_depth_mm    333 non-null    float64\n",
      " 4   flipper_length_mm  333 non-null    float64\n",
      " 5   body_mass_g        333 non-null    float64\n",
      " 6   sex                333 non-null    int64  \n",
      "dtypes: float64(4), int64(3)\n",
      "memory usage: 20.8 KB\n"
     ]
    }
   ],
   "source": [
    "df.info()"
   ]
  },
  {
   "cell_type": "code",
   "execution_count": 12,
   "metadata": {},
   "outputs": [
    {
     "data": {
      "text/plain": [
       "StandardScaler()"
      ]
     },
     "execution_count": 12,
     "metadata": {},
     "output_type": "execute_result"
    }
   ],
   "source": [
    "from sklearn.preprocessing import StandardScaler\n",
    "scaler = StandardScaler()\n",
    "scaler.fit(df)"
   ]
  },
  {
   "cell_type": "code",
   "execution_count": 13,
   "metadata": {},
   "outputs": [],
   "source": [
    "scaled_data = scaler.transform(df)"
   ]
  },
  {
   "cell_type": "code",
   "execution_count": 14,
   "metadata": {},
   "outputs": [
    {
     "data": {
      "text/plain": [
       "array([[-1.03437424, -1.8140371 , -0.89604189, ..., -1.42675157,\n",
       "        -0.56847478, -0.99103121],\n",
       "       [-1.03437424, -1.8140371 , -0.82278787, ..., -1.06947358,\n",
       "        -0.50628618,  1.00904996],\n",
       "       [-1.03437424, -1.8140371 , -0.67627982, ..., -0.42637319,\n",
       "        -1.1903608 ,  1.00904996],\n",
       "       ...,\n",
       "       [ 1.21691087, -0.33708269,  1.17338426, ...,  1.50292796,\n",
       "         1.91906927, -0.99103121],\n",
       "       [ 1.21691087, -0.33708269,  0.22108196, ...,  0.78837197,\n",
       "         1.23499466,  1.00904996],\n",
       "       [ 1.21691087, -0.33708269,  1.08181673, ...,  0.85982757,\n",
       "         1.48374906, -0.99103121]])"
      ]
     },
     "execution_count": 14,
     "metadata": {},
     "output_type": "execute_result"
    }
   ],
   "source": [
    "scaled_data"
   ]
  },
  {
   "cell_type": "code",
   "execution_count": 15,
   "metadata": {},
   "outputs": [
    {
     "data": {
      "text/plain": [
       "PCA(n_components=2)"
      ]
     },
     "execution_count": 15,
     "metadata": {},
     "output_type": "execute_result"
    }
   ],
   "source": [
    "# https://scikit-learn.org/stable/modules/generated/sklearn.decomposition.PCA.html\n",
    "from sklearn.decomposition import PCA\n",
    "pca = PCA(n_components=2)\n",
    "pca.fit(scaled_data)"
   ]
  },
  {
   "cell_type": "code",
   "execution_count": 16,
   "metadata": {},
   "outputs": [
    {
     "name": "stdout",
     "output_type": "stream",
     "text": [
      "(333, 7)\n",
      "(333, 2)\n"
     ]
    }
   ],
   "source": [
    "x_pca = pca.transform(scaled_data)\n",
    "print(scaled_data.shape)\n",
    "print(x_pca.shape)"
   ]
  },
  {
   "cell_type": "code",
   "execution_count": 17,
   "metadata": {},
   "outputs": [
    {
     "data": {
      "text/plain": [
       "Text(0, 0.5, 'Second principal component')"
      ]
     },
     "execution_count": 17,
     "metadata": {},
     "output_type": "execute_result"
    },
    {
     "data": {
      "image/png": "[encoded data removed]",
      "text/plain": [
       "<Figure size 576x432 with 1 Axes>"
      ]
     },
     "metadata": {
      "needs_background": "light"
     },
     "output_type": "display_data"
    }
   ],
   "source": [
    "plt.figure(figsize=(8,6))\n",
    "plt.scatter(x_pca[:,0],x_pca[:,1], c=df['species'], cmap='plasma')\n",
    "plt.xlabel('First principal component')\n",
    "plt.ylabel('Second principal component')"
   ]
  },
  {
   "cell_type": "code",
   "execution_count": 18,
   "metadata": {},
   "outputs": [
    {
     "data": {
      "text/plain": [
       "array([[ 0.49064302, -0.05951661,  0.39691507, -0.34415029,  0.49367464,\n",
       "         0.46920217, -0.12601932],\n",
       "       [-0.14139477,  0.27995089,  0.30142144,  0.54694421,  0.01200229,\n",
       "         0.12794063, -0.70364714]])"
      ]
     },
     "execution_count": 18,
     "metadata": {},
     "output_type": "execute_result"
    }
   ],
   "source": [
    "#interpreting the components\n",
    "# cost of PCA is not being able to easliy understand what these components represent\n",
    "pca.components_"
   ]
  },
  {
   "cell_type": "code",
   "execution_count": 19,
   "metadata": {},
   "outputs": [
    {
     "data": {
      "text/plain": [
       "Index(['species', 'island', 'culmen_length_mm', 'culmen_depth_mm',\n",
       "       'flipper_length_mm', 'body_mass_g', 'sex'],\n",
       "      dtype='object')"
      ]
     },
     "execution_count": 19,
     "metadata": {},
     "output_type": "execute_result"
    }
   ],
   "source": [
    "df.columns"
   ]
  },
  {
   "cell_type": "code",
   "execution_count": 20,
   "metadata": {},
   "outputs": [
    {
     "name": "stdout",
     "output_type": "stream",
     "text": [
      "Index(['species', 'island', 'culmen_length_mm', 'culmen_depth_mm',\n",
      "       'flipper_length_mm', 'body_mass_g', 'sex'],\n",
      "      dtype='object')\n"
     ]
    },
    {
     "data": {
      "text/plain": [
       "<AxesSubplot:>"
      ]
     },
     "execution_count": 20,
     "metadata": {},
     "output_type": "execute_result"
    },
    {
     "data": {
      "image/png": "[encoded data removed]",
      "text/plain": [
       "<Figure size 864x432 with 2 Axes>"
      ]
     },
     "metadata": {
      "needs_background": "light"
     },
     "output_type": "display_data"
    }
   ],
   "source": [
    "print(df.columns)\n",
    "df_comp = pd.DataFrame(pca.components_, columns=df.columns)\n",
    "plt.figure(figsize=(12,6))\n",
    "sns.heatmap(df_comp, cmap='plasma')"
   ]
  },
  {
   "cell_type": "code",
   "execution_count": 21,
   "metadata": {},
   "outputs": [],
   "source": [
    "from keras.models import Sequential\n",
    "from keras.layers import Dense\n",
    "from sklearn.preprocessing import OneHotEncoder\n",
    "from sklearn.model_selection import train_test_split\n",
    "from keras.optimizers import Adam"
   ]
  },
  {
   "cell_type": "code",
   "execution_count": 22,
   "metadata": {},
   "outputs": [],
   "source": [
    "features = pca.components_"
   ]
  },
  {
   "cell_type": "code",
   "execution_count": 23,
   "metadata": {},
   "outputs": [],
   "source": [
    "y = np.array(df.species).reshape(-1, 1)"
   ]
  },
  {
   "cell_type": "code",
   "execution_count": 24,
   "metadata": {},
   "outputs": [],
   "source": [
    "# we have 2 classes so the labels will have 2 values\n",
    "# first class: (1,0) second class: (0,1)\n",
    "encoder = OneHotEncoder()\n",
    "targets = encoder.fit_transform(y).toarray()"
   ]
  },
  {
   "cell_type": "code",
   "execution_count": 25,
   "metadata": {},
   "outputs": [
    {
     "data": {
      "text/plain": [
       "array([[-1.87007647e+00,  4.02825452e-01],\n",
       "       [-1.65995729e+00, -1.33181216e+00],\n",
       "       [-1.71030882e+00, -1.20055631e+00],\n",
       "       [-2.15335930e+00, -1.00755762e+00],\n",
       "       [-1.92896453e+00,  9.34179992e-01],\n",
       "       [-2.05208696e+00, -1.28580342e+00],\n",
       "       [-9.86657896e-01,  8.17892849e-01],\n",
       "       [-2.06991165e+00, -1.28676626e+00],\n",
       "       [-1.96204982e+00,  1.08716384e+00],\n",
       "       [-1.63822440e+00,  9.40025072e-01],\n",
       "       [-2.03440001e+00, -1.39740014e+00],\n",
       "       [-1.88492162e+00, -9.78889426e-01],\n",
       "       [-9.70887987e-01,  1.27990194e+00],\n",
       "       [-2.55345031e+00, -1.41247551e+00],\n",
       "       [-1.13739899e+00,  1.64532321e+00],\n",
       "       [-2.68569779e+00, -8.35775851e-01],\n",
       "       [-2.18255737e+00,  7.14292016e-01],\n",
       "       [-2.21876131e+00, -6.13795203e-01],\n",
       "       [-1.66056473e+00,  6.34978277e-01],\n",
       "       [-1.72334369e+00,  3.89595099e-01],\n",
       "       [-2.28041846e+00, -7.32079689e-01],\n",
       "       [-1.87760802e+00,  8.41174629e-01],\n",
       "       [-2.07755724e+00, -8.18675172e-01],\n",
       "       [-2.94738357e+00, -7.88304548e-01],\n",
       "       [-1.80978009e+00,  9.80181974e-01],\n",
       "       [-2.31642127e+00, -7.93958426e-01],\n",
       "       [-2.09726685e+00,  9.79292290e-01],\n",
       "       [-2.12701312e+00, -4.71447010e-01],\n",
       "       [-1.75668354e+00,  1.41121109e+00],\n",
       "       [-1.95080786e+00, -8.55117887e-01],\n",
       "       [-1.69610810e+00,  1.97940081e+00],\n",
       "       [-1.86102569e+00,  1.61437023e+00],\n",
       "       [-2.18958252e+00, -9.47698682e-02],\n",
       "       [-2.77459266e+00, -1.65088375e-01],\n",
       "       [-1.43396139e+00,  1.52546939e+00],\n",
       "       [-2.67927757e+00, -6.10432152e-01],\n",
       "       [-1.28840526e+00,  1.27604373e+00],\n",
       "       [-2.69121107e+00, -5.03477286e-01],\n",
       "       [-9.48999585e-01,  1.90023974e+00],\n",
       "       [-2.43211363e+00, -9.10106854e-01],\n",
       "       [-1.21351541e+00,  1.42816983e+00],\n",
       "       [-2.10740075e+00,  1.37276597e+00],\n",
       "       [-2.24083877e+00, -6.11249071e-01],\n",
       "       [-1.66465373e+00,  2.17405148e+00],\n",
       "       [-1.96817378e+00, -8.77107340e-01],\n",
       "       [-1.35239599e+00,  1.02065783e+00],\n",
       "       [-2.22562452e+00, -1.07992461e+00],\n",
       "       [-1.04188794e+00,  1.26294618e+00],\n",
       "       [-2.72377107e+00, -1.14198637e+00],\n",
       "       [-1.44971316e+00,  9.16065687e-01],\n",
       "       [-1.94760291e+00, -9.57903874e-01],\n",
       "       [-1.41396000e+00,  9.45165664e-01],\n",
       "       [-2.55668727e+00, -1.46193057e+00],\n",
       "       [-1.67843833e+00,  8.55913075e-01],\n",
       "       [-2.35116901e+00, -1.37147330e+00],\n",
       "       [-1.34493843e+00,  1.72077246e+00],\n",
       "       [-1.96795119e+00, -1.16716743e+00],\n",
       "       [-1.16198031e+00,  8.44793244e-01],\n",
       "       [-2.54564192e+00, -1.32579655e+00],\n",
       "       [-1.14898855e+00,  8.00848277e-01],\n",
       "       [-1.77371407e+00, -1.53682505e+00],\n",
       "       [-1.43142831e+00,  1.09966535e+00],\n",
       "       [-2.07819893e+00, -1.86898131e+00],\n",
       "       [-7.88139217e-01,  8.72551399e-01],\n",
       "       [-2.35174676e+00, -1.24635256e+00],\n",
       "       [-1.36893568e+00,  3.84085247e-01],\n",
       "       [-1.41082006e+00, -1.41313050e+00],\n",
       "       [-6.20219734e-01,  9.05677191e-01],\n",
       "       [-1.88547097e+00, -1.53728162e+00],\n",
       "       [-7.80469946e-01,  6.43007365e-01],\n",
       "       [-1.33515572e+00, -1.43305319e+00],\n",
       "       [-1.93733964e+00,  5.19099804e-01],\n",
       "       [-1.78291619e+00, -1.91451067e+00],\n",
       "       [-1.08226327e+00,  7.31481988e-01],\n",
       "       [-2.22544929e+00, -1.75083322e+00],\n",
       "       [-3.17790219e-01,  4.70646943e-01],\n",
       "       [-2.07324782e+00, -1.09608947e+00],\n",
       "       [-1.59743017e+00,  4.58635426e-01],\n",
       "       [-2.15192258e+00, -5.82359500e-01],\n",
       "       [-1.82413990e+00,  1.77559997e+00],\n",
       "       [-2.04277223e+00,  1.31341760e+00],\n",
       "       [-2.30403388e+00, -3.59755810e-01],\n",
       "       [-1.79262492e+00,  1.36338225e+00],\n",
       "       [-2.10002717e+00, -1.76951134e-01],\n",
       "       [-1.79848028e+00, -5.73788615e-01],\n",
       "       [-6.27900236e-01,  1.28138315e+00],\n",
       "       [-2.45175389e+00, -9.56425273e-01],\n",
       "       [-1.31963727e+00,  1.20615627e+00],\n",
       "       [-2.31464965e+00, -7.93548596e-01],\n",
       "       [-6.83900628e-01,  1.48992573e+00],\n",
       "       [-2.06481508e+00, -2.60831385e-01],\n",
       "       [-1.04436537e+00,  1.34872523e+00],\n",
       "       [-2.88086863e+00, -1.36983635e+00],\n",
       "       [-1.12056549e+00,  1.46559487e+00],\n",
       "       [-1.99458824e+00, -1.03444888e+00],\n",
       "       [-7.02345898e-01,  1.45681151e+00],\n",
       "       [-2.16258729e+00, -1.52506774e+00],\n",
       "       [-1.67073728e+00,  1.19343339e+00],\n",
       "       [-2.33789704e+00, -8.06098329e-01],\n",
       "       [-1.96026029e+00,  8.75800237e-01],\n",
       "       [-1.34886889e+00, -1.02045794e+00],\n",
       "       [-1.84591484e+00,  1.15981858e+00],\n",
       "       [-2.32073165e+00, -1.21062735e+00],\n",
       "       [-5.49879425e-01,  1.30290159e+00],\n",
       "       [-1.25420222e+00, -1.23169501e+00],\n",
       "       [-9.16741489e-01,  1.76400138e+00],\n",
       "       [-1.88904832e+00, -9.13322539e-01],\n",
       "       [-1.00187196e+00,  1.30721748e+00],\n",
       "       [-2.08344169e+00,  2.53196640e-02],\n",
       "       [-9.07487667e-01,  9.68339563e-01],\n",
       "       [-2.11003773e+00, -1.63425870e+00],\n",
       "       [-1.66641010e+00,  8.23571883e-01],\n",
       "       [-2.02294896e+00, -1.72187544e+00],\n",
       "       [-1.67301089e+00,  4.24642100e-01],\n",
       "       [-2.20887745e+00, -1.67218360e+00],\n",
       "       [-1.71057645e+00,  6.06320421e-01],\n",
       "       [-2.09607573e+00, -1.46870800e+00],\n",
       "       [-8.54146620e-01,  5.12056245e-01],\n",
       "       [-2.14766606e+00, -2.10576611e+00],\n",
       "       [-1.03269096e+00,  6.24295020e-01],\n",
       "       [-1.87584561e+00, -1.39407482e+00],\n",
       "       [-8.10781423e-01,  5.23570248e-01],\n",
       "       [-1.90510021e+00, -1.55791989e+00],\n",
       "       [-2.15218843e-01,  5.48769448e-01],\n",
       "       [-1.95625704e+00, -1.32008753e+00],\n",
       "       [-1.24831548e+00,  7.36649832e-01],\n",
       "       [-2.15269688e+00, -3.89661613e-01],\n",
       "       [-1.06911974e+00,  1.21662691e+00],\n",
       "       [-2.15610078e+00, -5.85327166e-01],\n",
       "       [-1.28545386e+00,  1.03796965e+00],\n",
       "       [-2.32511266e+00, -7.87497212e-01],\n",
       "       [-1.40941596e+00,  1.73202217e+00],\n",
       "       [-2.12867085e+00, -9.57720229e-01],\n",
       "       [-1.14714847e+00,  1.13022149e+00],\n",
       "       [-1.71887515e+00, -6.07319070e-01],\n",
       "       [-1.62313965e+00,  8.56717798e-01],\n",
       "       [-2.40824660e+00, -1.55948898e+00],\n",
       "       [-1.32914288e+00,  8.48960534e-01],\n",
       "       [-2.14587355e+00, -9.15359433e-01],\n",
       "       [-1.97040680e+00,  1.21177241e+00],\n",
       "       [-1.41183894e+00,  1.29476187e+00],\n",
       "       [-2.48180392e+00, -4.40214921e-01],\n",
       "       [-2.04695705e+00, -6.34777161e-01],\n",
       "       [-1.61205324e+00,  1.00140790e+00],\n",
       "       [-2.06074996e+00, -7.96569653e-01],\n",
       "       [-9.85012599e-01,  1.36355923e+00],\n",
       "       [-8.25584263e-01, -1.81128601e-01],\n",
       "       [-2.24630423e-01,  1.93156770e+00],\n",
       "       [-3.29349302e-01,  1.87752492e+00],\n",
       "       [-1.17207711e+00, -1.87718776e-02],\n",
       "       [-1.47728646e-01,  2.13706873e+00],\n",
       "       [-4.28311265e-01, -2.03952099e-01],\n",
       "       [-1.54692438e+00, -1.71549280e-01],\n",
       "       [ 4.51384226e-02,  1.61870592e+00],\n",
       "       [-5.51800401e-01,  1.75440133e-01],\n",
       "       [-2.46309674e-01,  2.08448321e+00],\n",
       "       [-5.90462739e-01, -1.54828434e-01],\n",
       "       [-3.84579337e-01,  2.22633267e+00],\n",
       "       [-8.14438498e-01, -2.94603253e-01],\n",
       "       [ 4.29700836e-01,  1.68069948e+00],\n",
       "       [-7.55959672e-01, -4.26559623e-01],\n",
       "       [ 5.81276329e-02,  2.01514186e+00],\n",
       "       [-6.05209410e-01,  1.99258940e+00],\n",
       "       [-2.43475255e-01,  4.48256586e-01],\n",
       "       [-1.05510231e+00, -1.60670031e-03],\n",
       "       [ 2.01267101e-01,  1.60450275e+00],\n",
       "       [-1.34826952e+00, -5.67870501e-01],\n",
       "       [-4.51780564e-01,  1.20858897e+00],\n",
       "       [-1.36445126e+00, -8.24668034e-01],\n",
       "       [-3.27699848e-01,  1.91838617e+00],\n",
       "       [-8.21935107e-01, -1.99341339e-01],\n",
       "       [ 1.89431859e-01,  1.94352803e+00],\n",
       "       [-3.98492725e-01,  1.69704083e-01],\n",
       "       [-9.07165400e-02,  1.75240370e+00],\n",
       "       [-7.33910239e-01, -1.83496760e-01],\n",
       "       [ 5.88195455e-01,  2.33636375e+00],\n",
       "       [-1.35656194e+00, -9.03891253e-01],\n",
       "       [ 2.62940622e-01,  2.59296209e+00],\n",
       "       [-1.17022500e+00, -7.63884332e-01],\n",
       "       [ 3.34223949e-01,  1.82988405e+00],\n",
       "       [-2.99263356e-01,  1.61606495e+00],\n",
       "       [-8.00032224e-02, -3.62251423e-01],\n",
       "       [-5.05556216e-01,  4.91253179e-02],\n",
       "       [ 7.29799938e-01,  2.53098718e+00],\n",
       "       [-1.03583874e+00, -6.47962600e-01],\n",
       "       [ 6.27401414e-01,  2.33923164e+00],\n",
       "       [ 2.25720973e-01,  1.89633014e+00],\n",
       "       [-8.66222424e-01, -2.89372623e-01],\n",
       "       [-2.93452891e-01,  1.81428834e+00],\n",
       "       [-5.99646297e-01, -4.83245088e-01],\n",
       "       [-2.62522517e-01,  9.30331541e-02],\n",
       "       [ 5.05895611e-01,  1.78937504e+00],\n",
       "       [-6.92813317e-01, -3.37648515e-05],\n",
       "       [ 4.83023154e-01,  1.98155679e+00],\n",
       "       [-6.72385402e-01,  1.68068650e+00],\n",
       "       [-1.66913013e-01, -1.32869952e-01],\n",
       "       [-3.01938030e-01, -5.31895057e-01],\n",
       "       [ 1.70205580e-01,  1.88201226e+00],\n",
       "       [-6.85085802e-01, -3.75416189e-01],\n",
       "       [ 1.25714439e-01,  2.05571353e+00],\n",
       "       [-1.27524084e+00, -5.96986880e-01],\n",
       "       [-1.69531422e-01,  1.78754543e+00],\n",
       "       [-8.73716673e-01, -6.55140704e-01],\n",
       "       [-1.10555324e-02,  2.03406485e+00],\n",
       "       [ 6.57227196e-02,  1.73712706e+00],\n",
       "       [-1.06840288e+00,  1.92127766e-01],\n",
       "       [ 2.95415994e-01,  2.05298204e+00],\n",
       "       [-5.77030948e-01, -5.32699282e-01],\n",
       "       [-5.32847221e-01, -4.49193205e-01],\n",
       "       [ 5.90850269e-01,  2.36052809e+00],\n",
       "       [-7.84256624e-01, -2.98435206e-01],\n",
       "       [-2.04946741e-01,  1.52541221e+00],\n",
       "       [ 5.31611572e-01,  1.88047978e+00],\n",
       "       [-3.24516299e-01,  2.94550667e-01],\n",
       "       [ 1.86197725e+00, -1.90778303e+00],\n",
       "       [ 3.22546879e+00,  7.84404882e-01],\n",
       "       [ 1.82899021e+00, -1.52272876e+00],\n",
       "       [ 2.99468803e+00,  4.68134655e-01],\n",
       "       [ 2.66185115e+00,  9.06273777e-02],\n",
       "       [ 1.83244816e+00, -1.79515515e+00],\n",
       "       [ 1.74113210e+00, -1.50925753e+00],\n",
       "       [ 2.48079703e+00,  2.35081290e-01],\n",
       "       [ 1.49453290e+00, -2.02434103e+00],\n",
       "       [ 2.30028100e+00,  2.57030644e-01],\n",
       "       [ 1.58984544e+00, -2.02930390e+00],\n",
       "       [ 2.60638649e+00,  6.37695392e-01],\n",
       "       [ 1.92421514e+00, -1.77538008e+00],\n",
       "       [ 2.89455937e+00,  2.32497067e-01],\n",
       "       [ 1.38478359e+00, -1.58351221e+00],\n",
       "       [ 2.90855375e+00,  5.91586999e-01],\n",
       "       [ 1.27191516e+00, -2.10721048e+00],\n",
       "       [ 3.39251255e+00,  5.22024270e-01],\n",
       "       [ 1.74623436e+00, -1.49462836e+00],\n",
       "       [ 2.85454497e+00,  3.16292709e-01],\n",
       "       [ 3.16674961e+00,  2.28828643e-01],\n",
       "       [ 1.99464739e+00, -1.51837770e+00],\n",
       "       [ 1.67571213e+00, -1.53828918e+00],\n",
       "       [ 2.13556785e+00,  3.24782297e-01],\n",
       "       [ 2.07976842e+00, -2.02924692e+00],\n",
       "       [ 2.27272755e+00,  1.26984887e-01],\n",
       "       [ 2.73477089e+00,  2.80531000e-01],\n",
       "       [ 1.84517748e+00, -1.47082735e+00],\n",
       "       [ 2.96019994e+00,  4.73796810e-01],\n",
       "       [ 2.65941694e+00,  2.78731130e-01],\n",
       "       [ 1.49324140e+00, -1.78167282e+00],\n",
       "       [ 1.74161989e+00, -1.51728229e+00],\n",
       "       [ 4.00501851e+00,  1.56474171e+00],\n",
       "       [ 2.49681189e+00, -1.18596814e+00],\n",
       "       [ 2.58133396e+00,  6.39768551e-01],\n",
       "       [ 1.85321519e+00, -1.88858142e+00],\n",
       "       [ 1.99273840e+00,  6.72400665e-01],\n",
       "       [ 1.44595512e+00, -1.93888204e+00],\n",
       "       [ 2.25566769e+00,  4.71183334e-01],\n",
       "       [ 1.10052448e+00, -2.04647848e+00],\n",
       "       [ 3.07252200e+00,  6.74587671e-01],\n",
       "       [ 1.56432087e+00, -1.84554591e+00],\n",
       "       [ 2.37566454e+00,  2.37534043e-01],\n",
       "       [ 2.96208027e+00,  6.70009939e-01],\n",
       "       [ 2.00282322e+00, -1.78227404e+00],\n",
       "       [ 1.48549535e+00, -1.79478616e+00],\n",
       "       [ 2.98037064e+00,  6.48713483e-01],\n",
       "       [ 2.17794768e+00, -1.84901513e+00],\n",
       "       [ 2.20150501e+00,  3.03843628e-01],\n",
       "       [ 1.89227275e+00, -1.54718268e+00],\n",
       "       [ 2.91530290e+00,  1.74184128e-02],\n",
       "       [ 1.48562263e+00, -1.64595948e+00],\n",
       "       [ 2.87538656e+00,  3.12635379e-01],\n",
       "       [ 2.12610830e+00, -1.48311041e+00],\n",
       "       [ 2.28746171e+00,  1.46044401e-01],\n",
       "       [ 1.34973036e+00, -1.87442993e+00],\n",
       "       [ 2.36463778e+00,  5.44233996e-02],\n",
       "       [ 1.28863816e+00, -1.71678363e+00],\n",
       "       [ 3.13037884e+00,  4.99307665e-01],\n",
       "       [ 1.41790854e+00, -1.83535783e+00],\n",
       "       [ 2.64337274e+00,  1.13844065e-01],\n",
       "       [ 1.75785254e+00, -1.74848967e+00],\n",
       "       [ 3.64914440e+00,  8.47772189e-01],\n",
       "       [ 2.06406677e+00, -1.60749401e+00],\n",
       "       [ 3.12341777e+00,  9.12445925e-01],\n",
       "       [ 3.22970913e+00,  7.44043492e-01],\n",
       "       [ 1.93215773e+00, -1.73359830e+00],\n",
       "       [ 3.16941766e+00,  4.31561558e-01],\n",
       "       [ 1.98550644e+00, -1.27469894e+00],\n",
       "       [ 2.36031791e+00,  2.71859231e-01],\n",
       "       [ 2.54951628e+00,  3.87133626e-01],\n",
       "       [ 2.23117190e+00, -1.32410675e+00],\n",
       "       [ 1.86183163e+00, -1.35441647e+00],\n",
       "       [ 3.23457007e+00,  6.39587890e-01],\n",
       "       [ 1.77652195e+00, -1.53814180e+00],\n",
       "       [ 3.12774275e+00,  8.84288187e-01],\n",
       "       [ 1.97853965e+00, -1.74735355e+00],\n",
       "       [ 2.75802305e+00,  5.81035963e-01],\n",
       "       [ 1.96073350e+00, -1.35982063e+00],\n",
       "       [ 3.06633245e+00,  6.80192348e-01],\n",
       "       [ 1.87801750e+00, -1.40993290e+00],\n",
       "       [ 2.87957126e+00,  6.12298987e-01],\n",
       "       [ 1.85090548e+00, -1.76648670e+00],\n",
       "       [ 2.97968395e+00,  1.08909981e+00],\n",
       "       [ 1.76097386e+00, -1.70111406e+00],\n",
       "       [ 3.03077800e+00,  1.98081723e-01],\n",
       "       [ 2.07783933e+00, -1.54744093e+00],\n",
       "       [ 3.16806026e+00,  1.07117098e+00],\n",
       "       [ 2.15823637e+00, -1.25219805e+00],\n",
       "       [ 2.99973781e+00,  1.07892269e+00],\n",
       "       [ 1.77200043e+00, -1.53865250e+00],\n",
       "       [ 2.98329561e+00,  6.88069750e-01],\n",
       "       [ 1.79321578e+00, -1.52059269e+00],\n",
       "       [ 2.95574235e+00,  5.78673082e-01],\n",
       "       [ 2.32323220e+00,  4.76871384e-01],\n",
       "       [ 2.28196822e+00, -1.40508767e+00],\n",
       "       [ 1.60987144e+00, -1.43399613e+00],\n",
       "       [ 2.83143115e+00,  8.24862086e-01],\n",
       "       [ 2.20784320e+00, -1.21205249e+00],\n",
       "       [ 3.40290610e+00,  1.28717533e+00],\n",
       "       [ 1.95767851e+00, -1.12827176e+00],\n",
       "       [ 3.20031521e+00,  3.39571930e-01],\n",
       "       [ 2.38201570e+00,  5.07439482e-01],\n",
       "       [ 1.36104605e+00, -1.70245489e+00],\n",
       "       [ 3.05537472e+00,  7.91746769e-01],\n",
       "       [ 1.45636783e+00, -1.83045364e+00],\n",
       "       [ 2.43988299e+00,  2.95892361e-01],\n",
       "       [ 2.29992568e+00, -1.02472188e+00],\n",
       "       [ 3.39156085e+00,  7.01024363e-01],\n",
       "       [ 1.48102159e+00, -1.46939574e+00],\n",
       "       [ 3.21778628e+00,  8.35380333e-01],\n",
       "       [ 1.85042972e+00, -1.66666210e+00],\n",
       "       [ 3.73622802e+00,  1.00634975e+00],\n",
       "       [ 3.04861218e+00,  7.31225293e-01],\n",
       "       [ 2.20827119e+00, -1.63777819e+00],\n",
       "       [ 2.06568700e+00, -1.50403812e+00],\n",
       "       [ 3.10653275e+00,  6.40683168e-01],\n",
       "       [ 1.96029703e+00, -1.40015598e+00],\n",
       "       [ 2.47844212e+00,  6.60933902e-01]])"
      ]
     },
     "execution_count": 25,
     "metadata": {},
     "output_type": "execute_result"
    }
   ],
   "source": [
    "train_features, test_features, train_targets, test_targets = train_test_split(x_pca, targets, test_size=0.2)\n",
    "x_pca\n",
    "#features2 = df[[\"income\", \"age\", \"loan\"]]\n",
    "#features2"
   ]
  },
  {
   "cell_type": "code",
   "execution_count": 26,
   "metadata": {},
   "outputs": [],
   "source": [
    "model = Sequential()\n",
    "model.add(Dense(10, input_dim=2, activation='sigmoid'))\n",
    "model.add(Dense(3, activation='softmax'))"
   ]
  },
  {
   "cell_type": "code",
   "execution_count": 27,
   "metadata": {},
   "outputs": [],
   "source": [
    "optimizer = Adam(lr=0.001)\n",
    "model.compile(loss='categorical_crossentropy',\n",
    "              optimizer=optimizer,\n",
    "              metrics=['accuracy'])"
   ]
  },
  {
   "cell_type": "code",
   "execution_count": 30,
   "metadata": {},
   "outputs": [
    {
     "name": "stdout",
     "output_type": "stream",
     "text": [
      "Epoch 1/50\n",
      "14/14 - 0s - loss: 0.3519 - accuracy: 0.8759\n",
      "Epoch 2/50\n",
      "14/14 - 0s - loss: 0.3497 - accuracy: 0.8759\n",
      "Epoch 3/50\n",
      "14/14 - 0s - loss: 0.3476 - accuracy: 0.8797\n",
      "Epoch 4/50\n",
      "14/14 - 0s - loss: 0.3454 - accuracy: 0.8797\n",
      "Epoch 5/50\n",
      "14/14 - 0s - loss: 0.3435 - accuracy: 0.8759\n",
      "Epoch 6/50\n",
      "14/14 - 0s - loss: 0.3414 - accuracy: 0.8759\n",
      "Epoch 7/50\n",
      "14/14 - 0s - loss: 0.3398 - accuracy: 0.8759\n",
      "Epoch 8/50\n",
      "14/14 - 0s - loss: 0.3374 - accuracy: 0.8797\n",
      "Epoch 9/50\n",
      "14/14 - 0s - loss: 0.3355 - accuracy: 0.8797\n",
      "Epoch 10/50\n",
      "14/14 - 0s - loss: 0.3337 - accuracy: 0.8835\n",
      "Epoch 11/50\n",
      "14/14 - 0s - loss: 0.3318 - accuracy: 0.8872\n",
      "Epoch 12/50\n",
      "14/14 - 0s - loss: 0.3299 - accuracy: 0.8910\n",
      "Epoch 13/50\n",
      "14/14 - 0s - loss: 0.3282 - accuracy: 0.8872\n",
      "Epoch 14/50\n",
      "14/14 - 0s - loss: 0.3262 - accuracy: 0.8872\n",
      "Epoch 15/50\n",
      "14/14 - 0s - loss: 0.3244 - accuracy: 0.8872\n",
      "Epoch 16/50\n",
      "14/14 - 0s - loss: 0.3229 - accuracy: 0.8910\n",
      "Epoch 17/50\n",
      "14/14 - 0s - loss: 0.3212 - accuracy: 0.8910\n",
      "Epoch 18/50\n",
      "14/14 - 0s - loss: 0.3194 - accuracy: 0.8910\n",
      "Epoch 19/50\n",
      "14/14 - 0s - loss: 0.3178 - accuracy: 0.8910\n",
      "Epoch 20/50\n",
      "14/14 - 0s - loss: 0.3162 - accuracy: 0.8910\n",
      "Epoch 21/50\n",
      "14/14 - 0s - loss: 0.3146 - accuracy: 0.8872\n",
      "Epoch 22/50\n",
      "14/14 - 0s - loss: 0.3128 - accuracy: 0.8910\n",
      "Epoch 23/50\n",
      "14/14 - 0s - loss: 0.3111 - accuracy: 0.8910\n",
      "Epoch 24/50\n",
      "14/14 - 0s - loss: 0.3096 - accuracy: 0.8872\n",
      "Epoch 25/50\n",
      "14/14 - 0s - loss: 0.3081 - accuracy: 0.8872\n",
      "Epoch 26/50\n",
      "14/14 - 0s - loss: 0.3067 - accuracy: 0.8910\n",
      "Epoch 27/50\n",
      "14/14 - 0s - loss: 0.3051 - accuracy: 0.8872\n",
      "Epoch 28/50\n",
      "14/14 - 0s - loss: 0.3034 - accuracy: 0.8910\n",
      "Epoch 29/50\n",
      "14/14 - 0s - loss: 0.3022 - accuracy: 0.8910\n",
      "Epoch 30/50\n",
      "14/14 - 0s - loss: 0.3007 - accuracy: 0.8910\n",
      "Epoch 31/50\n",
      "14/14 - 0s - loss: 0.2993 - accuracy: 0.8947\n",
      "Epoch 32/50\n",
      "14/14 - 0s - loss: 0.2983 - accuracy: 0.8910\n",
      "Epoch 33/50\n",
      "14/14 - 0s - loss: 0.2965 - accuracy: 0.8985\n",
      "Epoch 34/50\n",
      "14/14 - 0s - loss: 0.2949 - accuracy: 0.8947\n",
      "Epoch 35/50\n",
      "14/14 - 0s - loss: 0.2937 - accuracy: 0.8947\n",
      "Epoch 36/50\n",
      "14/14 - 0s - loss: 0.2922 - accuracy: 0.8947\n",
      "Epoch 37/50\n",
      "14/14 - 0s - loss: 0.2908 - accuracy: 0.8947\n",
      "Epoch 38/50\n",
      "14/14 - 0s - loss: 0.2894 - accuracy: 0.8947\n",
      "Epoch 39/50\n",
      "14/14 - 0s - loss: 0.2881 - accuracy: 0.8985\n",
      "Epoch 40/50\n",
      "14/14 - 0s - loss: 0.2868 - accuracy: 0.8985\n",
      "Epoch 41/50\n",
      "14/14 - 0s - loss: 0.2854 - accuracy: 0.8985\n",
      "Epoch 42/50\n",
      "14/14 - 0s - loss: 0.2841 - accuracy: 0.8985\n",
      "Epoch 43/50\n",
      "14/14 - 0s - loss: 0.2828 - accuracy: 0.8947\n",
      "Epoch 44/50\n",
      "14/14 - 0s - loss: 0.2815 - accuracy: 0.8947\n",
      "Epoch 45/50\n",
      "14/14 - 0s - loss: 0.2803 - accuracy: 0.8947\n",
      "Epoch 46/50\n",
      "14/14 - 0s - loss: 0.2789 - accuracy: 0.8947\n",
      "Epoch 47/50\n",
      "14/14 - 0s - loss: 0.2779 - accuracy: 0.8985\n",
      "Epoch 48/50\n",
      "14/14 - 0s - loss: 0.2763 - accuracy: 0.8985\n",
      "Epoch 49/50\n",
      "14/14 - 0s - loss: 0.2752 - accuracy: 0.8985\n",
      "Epoch 50/50\n",
      "14/14 - 0s - loss: 0.2738 - accuracy: 0.8985\n",
      "3/3 [==============================] - 0s 513us/step - loss: 0.1952 - accuracy: 0.9403\n",
      "Training is finished... The loss and accuracy values are:\n",
      "[0.19521446526050568, 0.9402984976768494]\n"
     ]
    }
   ],
   "source": [
    "model.fit(train_features, train_targets, batch_size = 20, epochs=50, verbose=2)\n",
    "results = model.evaluate(test_features, test_targets, use_multiprocessing=True)\n",
    "\n",
    "print(\"Training is finished... The loss and accuracy values are:\")\n",
    "print(results)"
   ]
  },
  {
   "cell_type": "code",
   "execution_count": null,
   "metadata": {},
   "outputs": [],
   "source": []
  },
  {
   "cell_type": "code",
   "execution_count": null,
   "metadata": {},
   "outputs": [],
   "source": []
  }
 ],
 "metadata": {
  "kernelspec": {
   "display_name": "Python 3",
   "language": "python",
   "name": "python3"
  },
  "language_info": {
   "codemirror_mode": {
    "name": "ipython",
    "version": 3
   },
   "file_extension": ".py",
   "mimetype": "text/x-python",
   "name": "python",
   "nbconvert_exporter": "python",
   "pygments_lexer": "ipython3",
   "version": "3.8.8"
  }
 },
 "nbformat": 4,
 "nbformat_minor": 4
}
