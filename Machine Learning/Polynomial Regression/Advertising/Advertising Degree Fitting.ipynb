{
 "cells": [
  {
   "cell_type": "code",
   "execution_count": 2,
   "metadata": {},
   "outputs": [],
   "source": [
    "#Similiar to advertising with degree of 2 instead of 1\n",
    "import pandas as pd\n",
    "import numpy as np\n",
    "import matplotlib.pyplot as plt\n",
    "import seaborn as sns\n",
    "import os\n",
    "from sklearn.linear_model import LinearRegression\n",
    "from sklearn.preprocessing import PolynomialFeatures\n",
    "from sklearn.model_selection import train_test_split\n",
    "from sklearn.metrics import mean_absolute_error, mean_squared_error\n",
    "\n",
    "#os.chdir('C:\\\\Users\\Matthew...')\n",
    "path = os.getcwd()\n",
    "path\n",
    "\n",
    "advertising = pd.read_csv(\"Advertising.csv\")"
   ]
  },
  {
   "cell_type": "code",
   "execution_count": 3,
   "metadata": {},
   "outputs": [
    {
     "data": {
      "text/plain": [
       "(200, 3)"
      ]
     },
     "execution_count": 3,
     "metadata": {},
     "output_type": "execute_result"
    }
   ],
   "source": [
    "X = advertising.drop('sales', axis=1)    #X is advertising without the sales column\n",
    "y = advertising['sales']                 #Y is the sales column from advertising\n",
    "X.shape"
   ]
  },
  {
   "cell_type": "code",
   "execution_count": 5,
   "metadata": {},
   "outputs": [
    {
     "name": "stdout",
     "output_type": "stream",
     "text": [
      "(200, 3)\n",
      "(200, 9)\n",
      "(200, 19)\n",
      "(200, 34)\n",
      "(200, 55)\n",
      "(200, 83)\n",
      "(200, 119)\n",
      "(200, 164)\n",
      "(200, 219)\n"
     ]
    },
    {
     "data": {
      "text/plain": [
       "<matplotlib.legend.Legend at 0x1f7aac94970>"
      ]
     },
     "execution_count": 5,
     "metadata": {},
     "output_type": "execute_result"
    },
    {
     "data": {
      "image/png": "[encoded data removed]",
      "text/plain": [
       "<Figure size 432x288 with 1 Axes>"
      ]
     },
     "metadata": {
      "needs_background": "light"
     },
     "output_type": "display_data"
    }
   ],
   "source": [
    "train_RMSE_errors=[]\n",
    "test_RMSE_errors=[]\n",
    "\n",
    "for k in range(1, 10):\n",
    "    polynomial_converter = PolynomialFeatures(degree=k, include_bias=False)\n",
    "    poly_features = polynomial_converter.fit_transform(X)\n",
    "    print(poly_features.shape)\n",
    "    X_train, X_test, y_train, y_test = train_test_split(poly_features, y, test_size=0.3, random_state=101) #test size can be changed\n",
    "    estimator = LinearRegression(fit_intercept=True)\n",
    "    estimator.fit(X_train,y_train)\n",
    "    \n",
    "    train_predictions = estimator.predict(X_train)\n",
    "    test_predictions = estimator.predict(X_test)\n",
    "    \n",
    "    MSE = mean_squared_error(y_train,train_predictions)\n",
    "    RMSE_train = np.sqrt(MSE)\n",
    "    \n",
    "    MSE = mean_squared_error(y_test,test_predictions)\n",
    "    RMSE_test = np.sqrt(MSE)\n",
    "    \n",
    "    train_RMSE_errors.append(RMSE_train)\n",
    "    test_RMSE_errors.append(RMSE_test)\n",
    "    \n",
    "plt.plot(range(1,6),train_RMSE_errors[:5],label='TRAIN')\n",
    "plt.plot(range(1,6),test_RMSE_errors[:5],label='TEST')\n",
    "plt.xlabel('Flexible models - Polynomial Complexity')\n",
    "plt.ylabel(\"RMSE\")\n",
    "plt.legend()"
   ]
  },
  {
   "cell_type": "code",
   "execution_count": null,
   "metadata": {},
   "outputs": [],
   "source": []
  }
 ],
 "metadata": {
  "kernelspec": {
   "display_name": "Python 3",
   "language": "python",
   "name": "python3"
  },
  "language_info": {
   "codemirror_mode": {
    "name": "ipython",
    "version": 3
   },
   "file_extension": ".py",
   "mimetype": "text/x-python",
   "name": "python",
   "nbconvert_exporter": "python",
   "pygments_lexer": "ipython3",
   "version": "3.8.8"
  }
 },
 "nbformat": 4,
 "nbformat_minor": 4
}
